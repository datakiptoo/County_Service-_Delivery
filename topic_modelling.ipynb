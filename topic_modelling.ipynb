{
 "cells": [
  {
   "cell_type": "code",
   "execution_count": 1,
   "metadata": {},
   "outputs": [],
   "source": [
    "import pandas as pd \n",
    "import numpy as np"
   ]
  },
  {
   "cell_type": "code",
   "execution_count": 2,
   "metadata": {},
   "outputs": [
    {
     "data": {
      "text/html": [
       "<div>\n",
       "<style scoped>\n",
       "    .dataframe tbody tr th:only-of-type {\n",
       "        vertical-align: middle;\n",
       "    }\n",
       "\n",
       "    .dataframe tbody tr th {\n",
       "        vertical-align: top;\n",
       "    }\n",
       "\n",
       "    .dataframe thead th {\n",
       "        text-align: right;\n",
       "    }\n",
       "</style>\n",
       "<table border=\"1\" class=\"dataframe\">\n",
       "  <thead>\n",
       "    <tr style=\"text-align: right;\">\n",
       "      <th></th>\n",
       "      <th>Text</th>\n",
       "      <th>Category</th>\n",
       "      <th>Label</th>\n",
       "    </tr>\n",
       "  </thead>\n",
       "  <tbody>\n",
       "    <tr>\n",
       "      <th>0</th>\n",
       "      <td>Is government gonna be taxed for it's idle lan...</td>\n",
       "      <td>Agriculture</td>\n",
       "      <td>9</td>\n",
       "    </tr>\n",
       "    <tr>\n",
       "      <th>1</th>\n",
       "      <td>I agree Gava should not talk of youth entrepre...</td>\n",
       "      <td>Industry, Trade and Cooperatives</td>\n",
       "      <td>11</td>\n",
       "    </tr>\n",
       "    <tr>\n",
       "      <th>2</th>\n",
       "      <td>Huyu ameamua kuharibu barabara smh</td>\n",
       "      <td>Transport</td>\n",
       "      <td>2</td>\n",
       "    </tr>\n",
       "    <tr>\n",
       "      <th>3</th>\n",
       "      <td>Hakuna maji</td>\n",
       "      <td>Water and sanitation</td>\n",
       "      <td>6</td>\n",
       "    </tr>\n",
       "    <tr>\n",
       "      <th>4</th>\n",
       "      <td>Lack of water</td>\n",
       "      <td>Water and sanitation</td>\n",
       "      <td>6</td>\n",
       "    </tr>\n",
       "  </tbody>\n",
       "</table>\n",
       "</div>"
      ],
      "text/plain": [
       "                                                Text  \\\n",
       "0  Is government gonna be taxed for it's idle lan...   \n",
       "1  I agree Gava should not talk of youth entrepre...   \n",
       "2                 Huyu ameamua kuharibu barabara smh   \n",
       "3                                        Hakuna maji   \n",
       "4                                      Lack of water   \n",
       "\n",
       "                           Category  Label  \n",
       "0                       Agriculture      9  \n",
       "1  Industry, Trade and Cooperatives     11  \n",
       "2                         Transport      2  \n",
       "3              Water and sanitation      6  \n",
       "4              Water and sanitation      6  "
      ]
     },
     "execution_count": 2,
     "metadata": {},
     "output_type": "execute_result"
    }
   ],
   "source": [
    "dataset=pd.read_csv(\"Kenya_dataset1.csv\")\n",
    "dataset.head()"
   ]
  },
  {
   "cell_type": "code",
   "execution_count": 3,
   "metadata": {},
   "outputs": [
    {
     "data": {
      "text/html": [
       "<div>\n",
       "<style scoped>\n",
       "    .dataframe tbody tr th:only-of-type {\n",
       "        vertical-align: middle;\n",
       "    }\n",
       "\n",
       "    .dataframe tbody tr th {\n",
       "        vertical-align: top;\n",
       "    }\n",
       "\n",
       "    .dataframe thead th {\n",
       "        text-align: right;\n",
       "    }\n",
       "</style>\n",
       "<table border=\"1\" class=\"dataframe\">\n",
       "  <thead>\n",
       "    <tr style=\"text-align: right;\">\n",
       "      <th></th>\n",
       "      <th>Text</th>\n",
       "      <th>Category</th>\n",
       "      <th>Label</th>\n",
       "    </tr>\n",
       "  </thead>\n",
       "  <tbody>\n",
       "    <tr>\n",
       "      <th>4528</th>\n",
       "      <td>\"I'm attending webinars on water-efficient far...</td>\n",
       "      <td>Agriculture</td>\n",
       "      <td>9</td>\n",
       "    </tr>\n",
       "    <tr>\n",
       "      <th>4529</th>\n",
       "      <td>\"The drought has united farmers in our region ...</td>\n",
       "      <td>Agriculture</td>\n",
       "      <td>9</td>\n",
       "    </tr>\n",
       "    <tr>\n",
       "      <th>4530</th>\n",
       "      <td>\"I'm advocating for increased awareness of dro...</td>\n",
       "      <td>Agriculture</td>\n",
       "      <td>9</td>\n",
       "    </tr>\n",
       "    <tr>\n",
       "      <th>4531</th>\n",
       "      <td>\"The drought is a stark reminder of the import...</td>\n",
       "      <td>Agriculture</td>\n",
       "      <td>9</td>\n",
       "    </tr>\n",
       "    <tr>\n",
       "      <th>4532</th>\n",
       "      <td>\"Farmers are resilient and resourceful, findin...</td>\n",
       "      <td>Agriculture</td>\n",
       "      <td>9</td>\n",
       "    </tr>\n",
       "  </tbody>\n",
       "</table>\n",
       "</div>"
      ],
      "text/plain": [
       "                                                   Text     Category  Label\n",
       "4528  \"I'm attending webinars on water-efficient far...  Agriculture      9\n",
       "4529  \"The drought has united farmers in our region ...  Agriculture      9\n",
       "4530  \"I'm advocating for increased awareness of dro...  Agriculture      9\n",
       "4531  \"The drought is a stark reminder of the import...  Agriculture      9\n",
       "4532  \"Farmers are resilient and resourceful, findin...  Agriculture      9"
      ]
     },
     "execution_count": 3,
     "metadata": {},
     "output_type": "execute_result"
    }
   ],
   "source": [
    "dataset.tail()"
   ]
  },
  {
   "cell_type": "code",
   "execution_count": 4,
   "metadata": {},
   "outputs": [
    {
     "name": "stdout",
     "output_type": "stream",
     "text": [
      "<class 'pandas.core.frame.DataFrame'>\n",
      "RangeIndex: 4533 entries, 0 to 4532\n",
      "Data columns (total 3 columns):\n",
      " #   Column    Non-Null Count  Dtype \n",
      "---  ------    --------------  ----- \n",
      " 0   Text      4533 non-null   object\n",
      " 1   Category  4533 non-null   object\n",
      " 2   Label     4533 non-null   int64 \n",
      "dtypes: int64(1), object(2)\n",
      "memory usage: 106.4+ KB\n"
     ]
    }
   ],
   "source": [
    "dataset.info()"
   ]
  },
  {
   "cell_type": "code",
   "execution_count": 5,
   "metadata": {},
   "outputs": [
    {
     "data": {
      "text/html": [
       "<div>\n",
       "<style scoped>\n",
       "    .dataframe tbody tr th:only-of-type {\n",
       "        vertical-align: middle;\n",
       "    }\n",
       "\n",
       "    .dataframe tbody tr th {\n",
       "        vertical-align: top;\n",
       "    }\n",
       "\n",
       "    .dataframe thead th {\n",
       "        text-align: right;\n",
       "    }\n",
       "</style>\n",
       "<table border=\"1\" class=\"dataframe\">\n",
       "  <thead>\n",
       "    <tr style=\"text-align: right;\">\n",
       "      <th></th>\n",
       "      <th>count</th>\n",
       "      <th>mean</th>\n",
       "      <th>std</th>\n",
       "      <th>min</th>\n",
       "      <th>25%</th>\n",
       "      <th>50%</th>\n",
       "      <th>75%</th>\n",
       "      <th>max</th>\n",
       "    </tr>\n",
       "  </thead>\n",
       "  <tbody>\n",
       "    <tr>\n",
       "      <th>Label</th>\n",
       "      <td>4533.0</td>\n",
       "      <td>5.13148</td>\n",
       "      <td>3.073591</td>\n",
       "      <td>1.0</td>\n",
       "      <td>2.0</td>\n",
       "      <td>3.0</td>\n",
       "      <td>8.0</td>\n",
       "      <td>12.0</td>\n",
       "    </tr>\n",
       "  </tbody>\n",
       "</table>\n",
       "</div>"
      ],
      "text/plain": [
       "        count     mean       std  min  25%  50%  75%   max\n",
       "Label  4533.0  5.13148  3.073591  1.0  2.0  3.0  8.0  12.0"
      ]
     },
     "execution_count": 5,
     "metadata": {},
     "output_type": "execute_result"
    }
   ],
   "source": [
    "dataset.describe().T"
   ]
  },
  {
   "cell_type": "code",
   "execution_count": 6,
   "metadata": {},
   "outputs": [
    {
     "data": {
      "text/plain": [
       "array(['Text', 'Category', 'Label'], dtype=object)"
      ]
     },
     "execution_count": 6,
     "metadata": {},
     "output_type": "execute_result"
    }
   ],
   "source": [
    "dataset.columns.values"
   ]
  },
  {
   "cell_type": "markdown",
   "metadata": {},
   "source": [
    "Data PreProcessing"
   ]
  },
  {
   "cell_type": "code",
   "execution_count": 7,
   "metadata": {},
   "outputs": [],
   "source": [
    "import nltk\n",
    "from nltk.tokenize import word_tokenize,sent_tokenize\n",
    "from nltk.corpus import stopwords\n",
    "from nltk.stem import WordNetLemmatizer,PorterStemmer\n",
    "import string\n",
    "import gensim\n",
    "from gensim.utils import simple_preprocess\n",
    "from gensim.models.ldamulticore import LdaMulticore\n",
    "from gensim import corpora\n"
   ]
  },
  {
   "cell_type": "code",
   "execution_count": 8,
   "metadata": {},
   "outputs": [
    {
     "name": "stderr",
     "output_type": "stream",
     "text": [
      "[nltk_data] Downloading package punkt to\n",
      "[nltk_data]     C:\\Users\\hp\\AppData\\Roaming\\nltk_data...\n",
      "[nltk_data]   Package punkt is already up-to-date!\n",
      "[nltk_data] Downloading package stopwords to\n",
      "[nltk_data]     C:\\Users\\hp\\AppData\\Roaming\\nltk_data...\n",
      "[nltk_data]   Package stopwords is already up-to-date!\n",
      "[nltk_data] Downloading package wordnet to\n",
      "[nltk_data]     C:\\Users\\hp\\AppData\\Roaming\\nltk_data...\n",
      "[nltk_data]   Package wordnet is already up-to-date!\n"
     ]
    },
    {
     "data": {
      "text/plain": [
       "True"
      ]
     },
     "execution_count": 8,
     "metadata": {},
     "output_type": "execute_result"
    }
   ],
   "source": [
    "nltk.download('punkt')\n",
    "nltk.download('stopwords')\n",
    "nltk.download('wordnet')\n"
   ]
  },
  {
   "cell_type": "code",
   "execution_count": 9,
   "metadata": {},
   "outputs": [],
   "source": [
    "def pre_process(text):\n",
    "    # Tokenization: Split the text into sentences and the sentences into words\n",
    "    sentences = sent_tokenize(text)\n",
    "    words = [word_tokenize(sentence) for sentence in sentences]\n",
    "\n",
    "    # Lowercase the words and remove punctuation\n",
    "    words = [[word.lower() for word in sentence if word.isalnum()] for sentence in words]\n",
    "\n",
    "    # Remove words with fewer than 3 characters\n",
    "    words = [[word for word in sentence if len(word) > 2] for sentence in words]\n",
    "\n",
    "    # Remove stopwords\n",
    "    stop_words = set(stopwords.words('english'))\n",
    "    words = [[word for word in sentence if word not in stop_words] for sentence in words]\n",
    "\n",
    "    # Lemmatization\n",
    "    lemmatizer = WordNetLemmatizer()\n",
    "    words = [[lemmatizer.lemmatize(word) for word in sentence] for sentence in words]\n",
    "\n",
    "    # Stemming\n",
    "    stemmer = PorterStemmer()\n",
    "    words = [[stemmer.stem(word) for word in sentence] for sentence in words]\n",
    "\n",
    "    return words\n",
    "\n",
    "\n"
   ]
  },
  {
   "cell_type": "code",
   "execution_count": 10,
   "metadata": {},
   "outputs": [],
   "source": [
    "dataset['Text']= dataset['Text'].apply(pre_process)"
   ]
  },
  {
   "cell_type": "code",
   "execution_count": 11,
   "metadata": {},
   "outputs": [
    {
     "data": {
      "text/plain": [
       "0    [[govern, gon, tax, idl, land], [watu, wapand,...\n",
       "1    [[agre, gava, talk, youth, entrepreneurship, w...\n",
       "2           [[huyu, ameamua, kuharibu, barabara, smh]]\n",
       "3                                     [[hakuna, maji]]\n",
       "4                                      [[lack, water]]\n",
       "5                            [[pothol, kwa, barabara]]\n",
       "6                           [[mashimo, kwa, barabara]]\n",
       "7                                        [[bad, road]]\n",
       "8                            [[stima, inapotea, sana]]\n",
       "9    [[kplc, wanatucheza], [kila, siku, stima, hupo...\n",
       "Name: Text, dtype: object"
      ]
     },
     "execution_count": 11,
     "metadata": {},
     "output_type": "execute_result"
    }
   ],
   "source": [
    "dataset['Text'].head(10)"
   ]
  },
  {
   "cell_type": "code",
   "execution_count": 12,
   "metadata": {},
   "outputs": [
    {
     "data": {
      "text/plain": [
       "4523    [[particip, commun, program, distribut, relief...\n",
       "4524      [[drought, forc, becom, adapt, resili, farmer]]\n",
       "4525    [[explor, innov, technolog, sustain, farm, dro...\n",
       "4526    [[lack, rainfal, made, appreci, beauti, sustai...\n",
       "4527    [[farmer, share, stori, turn, advers, opportun...\n",
       "4528    [[attend, webinar, farm, techniqu, adapt, chan...\n",
       "4529    [[drought, unit, farmer, region, collect, addr...\n",
       "4530    [[advoc, increas, awar, drought, impact, rural...\n",
       "4531    [[drought, stark, remind, import, conserv, res...\n",
       "4532    [[farmer, resili, resourc, find, way, thrive, ...\n",
       "Name: Text, dtype: object"
      ]
     },
     "execution_count": 12,
     "metadata": {},
     "output_type": "execute_result"
    }
   ],
   "source": [
    "dataset['Text'].tail(10)"
   ]
  },
  {
   "cell_type": "code",
   "execution_count": 13,
   "metadata": {},
   "outputs": [],
   "source": [
    "def sub_list(text):\n",
    "    tokens = [word for sublist in text for word in sublist]\n",
    "    return tokens"
   ]
  },
  {
   "cell_type": "code",
   "execution_count": 14,
   "metadata": {},
   "outputs": [],
   "source": [
    "dataset['Processed_Text'] = dataset['Text'].apply(sub_list)"
   ]
  },
  {
   "cell_type": "code",
   "execution_count": 15,
   "metadata": {},
   "outputs": [
    {
     "data": {
      "text/plain": [
       "0       [govern, gon, tax, idl, land, watu, wapand, mi...\n",
       "1       [agre, gava, talk, youth, entrepreneurship, wi...\n",
       "2                [huyu, ameamua, kuharibu, barabara, smh]\n",
       "3                                          [hakuna, maji]\n",
       "4                                           [lack, water]\n",
       "                              ...                        \n",
       "4528    [attend, webinar, farm, techniqu, adapt, chang...\n",
       "4529    [drought, unit, farmer, region, collect, addre...\n",
       "4530    [advoc, increas, awar, drought, impact, rural,...\n",
       "4531    [drought, stark, remind, import, conserv, resp...\n",
       "4532    [farmer, resili, resourc, find, way, thrive, d...\n",
       "Name: Processed_Text, Length: 4533, dtype: object"
      ]
     },
     "execution_count": 15,
     "metadata": {},
     "output_type": "execute_result"
    }
   ],
   "source": [
    "dataset['Processed_Text']"
   ]
  },
  {
   "cell_type": "code",
   "execution_count": null,
   "metadata": {},
   "outputs": [],
   "source": []
  },
  {
   "cell_type": "code",
   "execution_count": 16,
   "metadata": {},
   "outputs": [
    {
     "data": {
      "text/plain": [
       "Category\n",
       "Transport                              1634\n",
       "Broadcasting and telecommunications    1274\n",
       "Agriculture                             755\n",
       "Education                               737\n",
       "Housing and urban development            38\n",
       "Parks and Recreation                     28\n",
       "Internal Security                        22\n",
       "Medical Services                         21\n",
       "Energy                                   18\n",
       "Ethics and governance                     3\n",
       "Water and sanitation                      2\n",
       "Industry, Trade and Cooperatives          1\n",
       "Name: count, dtype: int64"
      ]
     },
     "execution_count": 16,
     "metadata": {},
     "output_type": "execute_result"
    }
   ],
   "source": [
    "#counts of each category\n",
    "category_counts = dataset['Category'].value_counts()\n",
    "category_counts"
   ]
  },
  {
   "cell_type": "code",
   "execution_count": 17,
   "metadata": {},
   "outputs": [
    {
     "name": "stdout",
     "output_type": "stream",
     "text": [
      "(0, '0.031*\"organ\" + 0.029*\"farm\" + 0.022*\"control\" + 0.018*\"safaricom\" + 0.016*\"inform\"')\n",
      "(1, '0.025*\"jinsi\" + 0.022*\"safi\" + 0.016*\"safaricom\" + 0.014*\"relief\" + 0.012*\"kufanya\"')\n",
      "(2, '0.208*\"drought\" + 0.021*\"area\" + 0.019*\"plant\" + 0.016*\"consid\" + 0.016*\"affect\"')\n",
      "(3, '0.054*\"kwa\" + 0.043*\"shamba\" + 0.027*\"hilu\" + 0.022*\"sana\" + 0.021*\"kilimo\"')\n",
      "(4, '0.072*\"matatu\" + 0.032*\"bora\" + 0.026*\"ferri\" + 0.026*\"huduma\" + 0.025*\"practic\"')\n",
      "(5, '0.058*\"crop\" + 0.042*\"farmer\" + 0.018*\"soil\" + 0.016*\"resili\" + 0.016*\"produc\"')\n",
      "(6, '0.130*\"farm\" + 0.033*\"water\" + 0.027*\"due\" + 0.018*\"conserv\" + 0.015*\"safaricom\"')\n",
      "(7, '0.048*\"airport\" + 0.026*\"safaricom\" + 0.015*\"get\" + 0.015*\"irrig\" + 0.013*\"work\"')\n",
      "(8, '0.027*\"safaricom\" + 0.016*\"mazuri\" + 0.014*\"explor\" + 0.011*\"weather\" + 0.010*\"grow\"')\n",
      "(9, '0.077*\"pothol\" + 0.024*\"safaricom\" + 0.023*\"local\" + 0.020*\"agricultur\" + 0.017*\"citi\"')\n",
      "(10, '0.060*\"safaricom\" + 0.023*\"servic\" + 0.021*\"custom\" + 0.018*\"experi\" + 0.015*\"call\"')\n",
      "(11, '0.073*\"school\" + 0.023*\"mimea\" + 0.021*\"lack\" + 0.020*\"program\" + 0.016*\"implement\"')\n",
      "                                                   Text  \\\n",
      "0     [[govern, gon, tax, idl, land], [watu, wapand,...   \n",
      "1     [[agre, gava, talk, youth, entrepreneurship, w...   \n",
      "2            [[huyu, ameamua, kuharibu, barabara, smh]]   \n",
      "3                                      [[hakuna, maji]]   \n",
      "4                                       [[lack, water]]   \n",
      "...                                                 ...   \n",
      "4528  [[attend, webinar, farm, techniqu, adapt, chan...   \n",
      "4529  [[drought, unit, farmer, region, collect, addr...   \n",
      "4530  [[advoc, increas, awar, drought, impact, rural...   \n",
      "4531  [[drought, stark, remind, import, conserv, res...   \n",
      "4532  [[farmer, resili, resourc, find, way, thrive, ...   \n",
      "\n",
      "                              Category  Topic  \n",
      "0                          Agriculture      3  \n",
      "1     Industry, Trade and Cooperatives      2  \n",
      "2                            Transport      0  \n",
      "3                 Water and sanitation      0  \n",
      "4                 Water and sanitation      0  \n",
      "...                                ...    ...  \n",
      "4528                       Agriculture      0  \n",
      "4529                       Agriculture      2  \n",
      "4530                       Agriculture      0  \n",
      "4531                       Agriculture      2  \n",
      "4532                       Agriculture      2  \n",
      "\n",
      "[4533 rows x 3 columns]\n"
     ]
    }
   ],
   "source": [
    "from gensim import corpora, models\n",
    " #Create a Dictionary and Corpus\n",
    "dictionary = corpora.Dictionary(dataset['Processed_Text'])\n",
    "corpus = [dictionary.doc2bow(text) for text in dataset['Processed_Text']]\n",
    "\n",
    "# Train the LDA Model with 12 topics\n",
    "lda_model = models.LdaModel(corpus, num_topics=12, id2word=dictionary, passes=15)\n",
    "\n",
    "# Print Topics\n",
    "topics = lda_model.print_topics(num_words=5)\n",
    "for topic in topics:\n",
    "    print(topic)\n",
    "\n",
    "# Assign Topics to Documents\n",
    "dataset['Topic'] = dataset['Processed_Text'].apply(lambda text: lda_model[dictionary.doc2bow(text)][0][0])\n",
    "\n",
    "# Display the DataFrame with assigned topics\n",
    "print(dataset[['Text', 'Category', 'Topic']])\n",
    "\n",
    "\n",
    "\n",
    "\n",
    "\n",
    "\n"
   ]
  },
  {
   "cell_type": "code",
   "execution_count": 18,
   "metadata": {},
   "outputs": [
    {
     "data": {
      "text/plain": [
       "0       3\n",
       "1       2\n",
       "2       0\n",
       "3       0\n",
       "4       0\n",
       "       ..\n",
       "4528    0\n",
       "4529    2\n",
       "4530    0\n",
       "4531    2\n",
       "4532    2\n",
       "Name: Topic, Length: 4533, dtype: int64"
      ]
     },
     "execution_count": 18,
     "metadata": {},
     "output_type": "execute_result"
    }
   ],
   "source": [
    "dataset['Topic'] "
   ]
  },
  {
   "cell_type": "code",
   "execution_count": null,
   "metadata": {},
   "outputs": [],
   "source": []
  }
 ],
 "metadata": {
  "kernelspec": {
   "display_name": "myenv",
   "language": "python",
   "name": "python3"
  },
  "language_info": {
   "codemirror_mode": {
    "name": "ipython",
    "version": 3
   },
   "file_extension": ".py",
   "mimetype": "text/x-python",
   "name": "python",
   "nbconvert_exporter": "python",
   "pygments_lexer": "ipython3",
   "version": "3.9.16"
  }
 },
 "nbformat": 4,
 "nbformat_minor": 2
}
