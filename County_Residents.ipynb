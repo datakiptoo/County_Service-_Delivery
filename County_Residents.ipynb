{
 "cells": [
  {
   "cell_type": "markdown",
   "metadata": {},
   "source": [
    "# County Residence Interface\n",
    "\n",
    "County residents upon logging in, are provided with an interface where they are able to select their county of \n",
    "\n",
    "residence from a predefined list which we are going to fetch from an API that contains the list of the 47 counties.\n",
    "\n",
    "The application utilises natural language processing techniques to analyse the input from residents and extract \n",
    "\n",
    "relevant information.This includes data preprocessing tasks such as tokenization and lemmatization.Word frequency \n",
    "\n",
    "analysis and sentiment analysis is carried out on the preprocessed data.From the analysed data, a pie chart will be \n",
    "\n",
    "constructed to visualise the distribution of the services. Each category of the service improvement will be \n",
    "\n",
    "represented by the segments of the pie-chart"
   ]
  },
  {
   "cell_type": "markdown",
   "metadata": {},
   "source": [
    "## Training Data \n",
    "\n",
    "OCHA SERVICES DATA: This dataset is a detailed dataset containing data regarding the many different services and \n",
    "\n",
    "amenities available in Kenya, and the date when they were recorded. We will use this data in training our model to \n",
    "\n",
    "identify the specific service or amenity a resident wants improved. Below is the link to the dataset:"
   ]
  },
  {
   "cell_type": "code",
   "execution_count": null,
   "metadata": {},
   "outputs": [],
   "source": []
  },
  {
   "cell_type": "code",
   "execution_count": 101,
   "metadata": {},
   "outputs": [],
   "source": [
    "import pandas as pd\n",
    "import numpy as np \n",
    "import seaborn as sns\n",
    "import matplotlib.pyplot as plt\n",
    "\n",
    "\n"
   ]
  },
  {
   "cell_type": "code",
   "execution_count": 102,
   "metadata": {},
   "outputs": [
    {
     "data": {
      "text/html": [
       "<div>\n",
       "<style scoped>\n",
       "    .dataframe tbody tr th:only-of-type {\n",
       "        vertical-align: middle;\n",
       "    }\n",
       "\n",
       "    .dataframe tbody tr th {\n",
       "        vertical-align: top;\n",
       "    }\n",
       "\n",
       "    .dataframe thead th {\n",
       "        text-align: right;\n",
       "    }\n",
       "</style>\n",
       "<table border=\"1\" class=\"dataframe\">\n",
       "  <thead>\n",
       "    <tr style=\"text-align: right;\">\n",
       "      <th></th>\n",
       "      <th>Country Name</th>\n",
       "      <th>Country ISO3</th>\n",
       "      <th>Year</th>\n",
       "      <th>Indicator Name</th>\n",
       "      <th>Indicator Code</th>\n",
       "      <th>Value</th>\n",
       "    </tr>\n",
       "  </thead>\n",
       "  <tbody>\n",
       "    <tr>\n",
       "      <th>0</th>\n",
       "      <td>#country+name</td>\n",
       "      <td>#country+code</td>\n",
       "      <td>#date+year</td>\n",
       "      <td>#indicator+name</td>\n",
       "      <td>#indicator+code</td>\n",
       "      <td>#indicator+value+num</td>\n",
       "    </tr>\n",
       "    <tr>\n",
       "      <th>1</th>\n",
       "      <td>Kenya</td>\n",
       "      <td>KEN</td>\n",
       "      <td>2021</td>\n",
       "      <td>ICT service exports (BoP, current US$)</td>\n",
       "      <td>BX.GSR.CCIS.CD</td>\n",
       "      <td>973328921.924682</td>\n",
       "    </tr>\n",
       "    <tr>\n",
       "      <th>2</th>\n",
       "      <td>Kenya</td>\n",
       "      <td>KEN</td>\n",
       "      <td>2020</td>\n",
       "      <td>ICT service exports (BoP, current US$)</td>\n",
       "      <td>BX.GSR.CCIS.CD</td>\n",
       "      <td>567129881.228679</td>\n",
       "    </tr>\n",
       "    <tr>\n",
       "      <th>3</th>\n",
       "      <td>Kenya</td>\n",
       "      <td>KEN</td>\n",
       "      <td>2019</td>\n",
       "      <td>ICT service exports (BoP, current US$)</td>\n",
       "      <td>BX.GSR.CCIS.CD</td>\n",
       "      <td>628827610.941533</td>\n",
       "    </tr>\n",
       "    <tr>\n",
       "      <th>4</th>\n",
       "      <td>Kenya</td>\n",
       "      <td>KEN</td>\n",
       "      <td>2018</td>\n",
       "      <td>ICT service exports (BoP, current US$)</td>\n",
       "      <td>BX.GSR.CCIS.CD</td>\n",
       "      <td>570245522.266492</td>\n",
       "    </tr>\n",
       "    <tr>\n",
       "      <th>5</th>\n",
       "      <td>Kenya</td>\n",
       "      <td>KEN</td>\n",
       "      <td>2017</td>\n",
       "      <td>ICT service exports (BoP, current US$)</td>\n",
       "      <td>BX.GSR.CCIS.CD</td>\n",
       "      <td>473090014.312925</td>\n",
       "    </tr>\n",
       "    <tr>\n",
       "      <th>6</th>\n",
       "      <td>Kenya</td>\n",
       "      <td>KEN</td>\n",
       "      <td>2016</td>\n",
       "      <td>ICT service exports (BoP, current US$)</td>\n",
       "      <td>BX.GSR.CCIS.CD</td>\n",
       "      <td>451360165.698429</td>\n",
       "    </tr>\n",
       "    <tr>\n",
       "      <th>7</th>\n",
       "      <td>Kenya</td>\n",
       "      <td>KEN</td>\n",
       "      <td>2015</td>\n",
       "      <td>ICT service exports (BoP, current US$)</td>\n",
       "      <td>BX.GSR.CCIS.CD</td>\n",
       "      <td>550307434.561937</td>\n",
       "    </tr>\n",
       "    <tr>\n",
       "      <th>8</th>\n",
       "      <td>Kenya</td>\n",
       "      <td>KEN</td>\n",
       "      <td>2014</td>\n",
       "      <td>ICT service exports (BoP, current US$)</td>\n",
       "      <td>BX.GSR.CCIS.CD</td>\n",
       "      <td>755711724.114998</td>\n",
       "    </tr>\n",
       "    <tr>\n",
       "      <th>9</th>\n",
       "      <td>Kenya</td>\n",
       "      <td>KEN</td>\n",
       "      <td>2013</td>\n",
       "      <td>ICT service exports (BoP, current US$)</td>\n",
       "      <td>BX.GSR.CCIS.CD</td>\n",
       "      <td>515175648.649776</td>\n",
       "    </tr>\n",
       "  </tbody>\n",
       "</table>\n",
       "</div>"
      ],
      "text/plain": [
       "    Country Name   Country ISO3        Year  \\\n",
       "0  #country+name  #country+code  #date+year   \n",
       "1          Kenya            KEN        2021   \n",
       "2          Kenya            KEN        2020   \n",
       "3          Kenya            KEN        2019   \n",
       "4          Kenya            KEN        2018   \n",
       "5          Kenya            KEN        2017   \n",
       "6          Kenya            KEN        2016   \n",
       "7          Kenya            KEN        2015   \n",
       "8          Kenya            KEN        2014   \n",
       "9          Kenya            KEN        2013   \n",
       "\n",
       "                           Indicator Name   Indicator Code  \\\n",
       "0                         #indicator+name  #indicator+code   \n",
       "1  ICT service exports (BoP, current US$)   BX.GSR.CCIS.CD   \n",
       "2  ICT service exports (BoP, current US$)   BX.GSR.CCIS.CD   \n",
       "3  ICT service exports (BoP, current US$)   BX.GSR.CCIS.CD   \n",
       "4  ICT service exports (BoP, current US$)   BX.GSR.CCIS.CD   \n",
       "5  ICT service exports (BoP, current US$)   BX.GSR.CCIS.CD   \n",
       "6  ICT service exports (BoP, current US$)   BX.GSR.CCIS.CD   \n",
       "7  ICT service exports (BoP, current US$)   BX.GSR.CCIS.CD   \n",
       "8  ICT service exports (BoP, current US$)   BX.GSR.CCIS.CD   \n",
       "9  ICT service exports (BoP, current US$)   BX.GSR.CCIS.CD   \n",
       "\n",
       "                  Value  \n",
       "0  #indicator+value+num  \n",
       "1      973328921.924682  \n",
       "2      567129881.228679  \n",
       "3      628827610.941533  \n",
       "4      570245522.266492  \n",
       "5      473090014.312925  \n",
       "6      451360165.698429  \n",
       "7      550307434.561937  \n",
       "8      755711724.114998  \n",
       "9      515175648.649776  "
      ]
     },
     "execution_count": 102,
     "metadata": {},
     "output_type": "execute_result"
    }
   ],
   "source": [
    "ocha_dataset=pd.read_csv(\"infrastructure_ken.csv\")\n",
    "ocha_dataset.head(10)"
   ]
  },
  {
   "cell_type": "code",
   "execution_count": 103,
   "metadata": {},
   "outputs": [
    {
     "name": "stdout",
     "output_type": "stream",
     "text": [
      "<class 'pandas.core.frame.DataFrame'>\n",
      "RangeIndex: 1340 entries, 0 to 1339\n",
      "Data columns (total 6 columns):\n",
      " #   Column          Non-Null Count  Dtype \n",
      "---  ------          --------------  ----- \n",
      " 0   Country Name    1340 non-null   object\n",
      " 1   Country ISO3    1340 non-null   object\n",
      " 2   Year            1340 non-null   object\n",
      " 3   Indicator Name  1340 non-null   object\n",
      " 4   Indicator Code  1340 non-null   object\n",
      " 5   Value           1340 non-null   object\n",
      "dtypes: object(6)\n",
      "memory usage: 62.9+ KB\n"
     ]
    }
   ],
   "source": [
    "ocha_dataset.info()"
   ]
  },
  {
   "cell_type": "code",
   "execution_count": 104,
   "metadata": {},
   "outputs": [
    {
     "data": {
      "text/plain": [
       "Index(['Country Name', 'Country ISO3', 'Year', 'Indicator Name',\n",
       "       'Indicator Code', 'Value'],\n",
       "      dtype='object')"
      ]
     },
     "execution_count": 104,
     "metadata": {},
     "output_type": "execute_result"
    }
   ],
   "source": [
    "ocha_dataset.columns"
   ]
  },
  {
   "cell_type": "code",
   "execution_count": 105,
   "metadata": {},
   "outputs": [
    {
     "data": {
      "text/plain": [
       "Year\n",
       "2009          45\n",
       "2008          44\n",
       "2004          42\n",
       "2007          42\n",
       "2010          41\n",
       "              ..\n",
       "1961           2\n",
       "1960           2\n",
       "1963           2\n",
       "1964           2\n",
       "#date+year     1\n",
       "Name: count, Length: 64, dtype: int64"
      ]
     },
     "execution_count": 105,
     "metadata": {},
     "output_type": "execute_result"
    }
   ],
   "source": [
    "year_counts=ocha_dataset['Year'].value_counts()\n",
    "year_counts"
   ]
  },
  {
   "cell_type": "code",
   "execution_count": 106,
   "metadata": {},
   "outputs": [
    {
     "data": {
      "text/plain": [
       "'Renewable internal freshwater resources per capita (cubic meters)'"
      ]
     },
     "execution_count": 106,
     "metadata": {},
     "output_type": "execute_result"
    }
   ],
   "source": [
    "# Get the most common service across all years\n",
    "most_common_activity = ocha_dataset['Indicator Name'].mode()[0]\n",
    "most_common_activity"
   ]
  },
  {
   "cell_type": "code",
   "execution_count": 107,
   "metadata": {},
   "outputs": [
    {
     "data": {
      "text/html": [
       "<div>\n",
       "<style scoped>\n",
       "    .dataframe tbody tr th:only-of-type {\n",
       "        vertical-align: middle;\n",
       "    }\n",
       "\n",
       "    .dataframe tbody tr th {\n",
       "        vertical-align: top;\n",
       "    }\n",
       "\n",
       "    .dataframe thead th {\n",
       "        text-align: right;\n",
       "    }\n",
       "</style>\n",
       "<table border=\"1\" class=\"dataframe\">\n",
       "  <thead>\n",
       "    <tr style=\"text-align: right;\">\n",
       "      <th></th>\n",
       "      <th>Year</th>\n",
       "      <th>Indicator Name</th>\n",
       "    </tr>\n",
       "  </thead>\n",
       "  <tbody>\n",
       "    <tr>\n",
       "      <th>0</th>\n",
       "      <td>#date+year</td>\n",
       "      <td>#indicator+name</td>\n",
       "    </tr>\n",
       "    <tr>\n",
       "      <th>1</th>\n",
       "      <td>1960</td>\n",
       "      <td>Mobile cellular subscriptions</td>\n",
       "    </tr>\n",
       "    <tr>\n",
       "      <th>2</th>\n",
       "      <td>1961</td>\n",
       "      <td>Renewable internal freshwater resources per ca...</td>\n",
       "    </tr>\n",
       "    <tr>\n",
       "      <th>3</th>\n",
       "      <td>1962</td>\n",
       "      <td>Renewable internal freshwater resources per ca...</td>\n",
       "    </tr>\n",
       "    <tr>\n",
       "      <th>4</th>\n",
       "      <td>1963</td>\n",
       "      <td>Renewable internal freshwater resources per ca...</td>\n",
       "    </tr>\n",
       "    <tr>\n",
       "      <th>5</th>\n",
       "      <td>1964</td>\n",
       "      <td>Renewable internal freshwater resources per ca...</td>\n",
       "    </tr>\n",
       "    <tr>\n",
       "      <th>6</th>\n",
       "      <td>1965</td>\n",
       "      <td>Fixed telephone subscriptions</td>\n",
       "    </tr>\n",
       "    <tr>\n",
       "      <th>7</th>\n",
       "      <td>1966</td>\n",
       "      <td>Fixed telephone subscriptions</td>\n",
       "    </tr>\n",
       "    <tr>\n",
       "      <th>8</th>\n",
       "      <td>1967</td>\n",
       "      <td>Fixed telephone subscriptions</td>\n",
       "    </tr>\n",
       "    <tr>\n",
       "      <th>9</th>\n",
       "      <td>1968</td>\n",
       "      <td>Fixed telephone subscriptions</td>\n",
       "    </tr>\n",
       "  </tbody>\n",
       "</table>\n",
       "</div>"
      ],
      "text/plain": [
       "         Year                                     Indicator Name\n",
       "0  #date+year                                    #indicator+name\n",
       "1        1960                      Mobile cellular subscriptions\n",
       "2        1961  Renewable internal freshwater resources per ca...\n",
       "3        1962  Renewable internal freshwater resources per ca...\n",
       "4        1963  Renewable internal freshwater resources per ca...\n",
       "5        1964  Renewable internal freshwater resources per ca...\n",
       "6        1965                      Fixed telephone subscriptions\n",
       "7        1966                      Fixed telephone subscriptions\n",
       "8        1967                      Fixed telephone subscriptions\n",
       "9        1968                      Fixed telephone subscriptions"
      ]
     },
     "execution_count": 107,
     "metadata": {},
     "output_type": "execute_result"
    }
   ],
   "source": [
    "# Group the data by 'Year' and find the most common services for each year\n",
    "most_common_activities = ocha_dataset.groupby('Year')['Indicator Name'].agg(lambda x: x.mode().iloc[0]).reset_index()\n",
    "most_common_activities.head(10)"
   ]
  },
  {
   "cell_type": "code",
   "execution_count": 108,
   "metadata": {},
   "outputs": [
    {
     "data": {
      "text/html": [
       "<div>\n",
       "<style scoped>\n",
       "    .dataframe tbody tr th:only-of-type {\n",
       "        vertical-align: middle;\n",
       "    }\n",
       "\n",
       "    .dataframe tbody tr th {\n",
       "        vertical-align: top;\n",
       "    }\n",
       "\n",
       "    .dataframe thead th {\n",
       "        text-align: right;\n",
       "    }\n",
       "</style>\n",
       "<table border=\"1\" class=\"dataframe\">\n",
       "  <thead>\n",
       "    <tr style=\"text-align: right;\">\n",
       "      <th></th>\n",
       "      <th>Year</th>\n",
       "      <th>Indicator Name</th>\n",
       "    </tr>\n",
       "  </thead>\n",
       "  <tbody>\n",
       "    <tr>\n",
       "      <th>54</th>\n",
       "      <td>2013</td>\n",
       "      <td>Air transport, freight (million ton-km)</td>\n",
       "    </tr>\n",
       "    <tr>\n",
       "      <th>55</th>\n",
       "      <td>2014</td>\n",
       "      <td>Air transport, freight (million ton-km)</td>\n",
       "    </tr>\n",
       "    <tr>\n",
       "      <th>56</th>\n",
       "      <td>2015</td>\n",
       "      <td>Air transport, freight (million ton-km)</td>\n",
       "    </tr>\n",
       "    <tr>\n",
       "      <th>57</th>\n",
       "      <td>2016</td>\n",
       "      <td>Air transport, freight (million ton-km)</td>\n",
       "    </tr>\n",
       "    <tr>\n",
       "      <th>58</th>\n",
       "      <td>2017</td>\n",
       "      <td>Air transport, freight (million ton-km)</td>\n",
       "    </tr>\n",
       "    <tr>\n",
       "      <th>59</th>\n",
       "      <td>2018</td>\n",
       "      <td>Air transport, freight (million ton-km)</td>\n",
       "    </tr>\n",
       "    <tr>\n",
       "      <th>60</th>\n",
       "      <td>2019</td>\n",
       "      <td>Air transport, freight (million ton-km)</td>\n",
       "    </tr>\n",
       "    <tr>\n",
       "      <th>61</th>\n",
       "      <td>2020</td>\n",
       "      <td>Air transport, freight (million ton-km)</td>\n",
       "    </tr>\n",
       "    <tr>\n",
       "      <th>62</th>\n",
       "      <td>2021</td>\n",
       "      <td>Air transport, freight (million ton-km)</td>\n",
       "    </tr>\n",
       "    <tr>\n",
       "      <th>63</th>\n",
       "      <td>2022</td>\n",
       "      <td>Fixed broadband subscriptions</td>\n",
       "    </tr>\n",
       "  </tbody>\n",
       "</table>\n",
       "</div>"
      ],
      "text/plain": [
       "    Year                           Indicator Name\n",
       "54  2013  Air transport, freight (million ton-km)\n",
       "55  2014  Air transport, freight (million ton-km)\n",
       "56  2015  Air transport, freight (million ton-km)\n",
       "57  2016  Air transport, freight (million ton-km)\n",
       "58  2017  Air transport, freight (million ton-km)\n",
       "59  2018  Air transport, freight (million ton-km)\n",
       "60  2019  Air transport, freight (million ton-km)\n",
       "61  2020  Air transport, freight (million ton-km)\n",
       "62  2021  Air transport, freight (million ton-km)\n",
       "63  2022            Fixed broadband subscriptions"
      ]
     },
     "execution_count": 108,
     "metadata": {},
     "output_type": "execute_result"
    }
   ],
   "source": [
    "most_common_activities.tail(10)"
   ]
  },
  {
   "cell_type": "code",
   "execution_count": null,
   "metadata": {},
   "outputs": [],
   "source": []
  },
  {
   "cell_type": "markdown",
   "metadata": {},
   "source": [
    "Plotting  Graph for the most common services provided in the last 10 years"
   ]
  },
  {
   "cell_type": "code",
   "execution_count": 109,
   "metadata": {},
   "outputs": [
    {
     "name": "stderr",
     "output_type": "stream",
     "text": [
      "c:\\Users\\hp\\anaconda3\\envs\\myenv\\lib\\site-packages\\seaborn\\_oldcore.py:1498: FutureWarning: is_categorical_dtype is deprecated and will be removed in a future version. Use isinstance(dtype, CategoricalDtype) instead\n",
      "  if pd.api.types.is_categorical_dtype(vector):\n",
      "c:\\Users\\hp\\anaconda3\\envs\\myenv\\lib\\site-packages\\seaborn\\_oldcore.py:1498: FutureWarning: is_categorical_dtype is deprecated and will be removed in a future version. Use isinstance(dtype, CategoricalDtype) instead\n",
      "  if pd.api.types.is_categorical_dtype(vector):\n",
      "c:\\Users\\hp\\anaconda3\\envs\\myenv\\lib\\site-packages\\seaborn\\_oldcore.py:1498: FutureWarning: is_categorical_dtype is deprecated and will be removed in a future version. Use isinstance(dtype, CategoricalDtype) instead\n",
      "  if pd.api.types.is_categorical_dtype(vector):\n",
      "c:\\Users\\hp\\anaconda3\\envs\\myenv\\lib\\site-packages\\seaborn\\_oldcore.py:1498: FutureWarning: is_categorical_dtype is deprecated and will be removed in a future version. Use isinstance(dtype, CategoricalDtype) instead\n",
      "  if pd.api.types.is_categorical_dtype(vector):\n"
     ]
    },
    {
     "data": {
      "image/png": "[encoded data removed]",
      "text/plain": [
       "<Figure size 1000x600 with 1 Axes>"
      ]
     },
     "metadata": {},
     "output_type": "display_data"
    }
   ],
   "source": [
    "plt.figure(figsize=(10, 6))\n",
    "sns.countplot(data=most_common_activities.tail(10), x='Year', hue='Indicator Name', palette='viridis', dodge=True)\n",
    "plt.xlabel('Year')\n",
    "plt.ylabel('Count')\n",
    "plt.title('Most Common Service Offered In The Past 10 Year')\n",
    "plt.legend(title='Indicator Name', bbox_to_anchor=(1.05, 1), loc='upper left')\n",
    "plt.tight_layout()\n",
    "plt.show()"
   ]
  },
  {
   "cell_type": "code",
   "execution_count": null,
   "metadata": {},
   "outputs": [],
   "source": []
  },
  {
   "cell_type": "markdown",
   "metadata": {},
   "source": [
    "Dropping Unnecessary Columns"
   ]
  },
  {
   "cell_type": "code",
   "execution_count": 110,
   "metadata": {},
   "outputs": [
    {
     "data": {
      "text/html": [
       "<div>\n",
       "<style scoped>\n",
       "    .dataframe tbody tr th:only-of-type {\n",
       "        vertical-align: middle;\n",
       "    }\n",
       "\n",
       "    .dataframe tbody tr th {\n",
       "        vertical-align: top;\n",
       "    }\n",
       "\n",
       "    .dataframe thead th {\n",
       "        text-align: right;\n",
       "    }\n",
       "</style>\n",
       "<table border=\"1\" class=\"dataframe\">\n",
       "  <thead>\n",
       "    <tr style=\"text-align: right;\">\n",
       "      <th></th>\n",
       "      <th>Indicator Name</th>\n",
       "    </tr>\n",
       "  </thead>\n",
       "  <tbody>\n",
       "    <tr>\n",
       "      <th>0</th>\n",
       "      <td>#indicator+name</td>\n",
       "    </tr>\n",
       "    <tr>\n",
       "      <th>1</th>\n",
       "      <td>ICT service exports (BoP, current US$)</td>\n",
       "    </tr>\n",
       "    <tr>\n",
       "      <th>2</th>\n",
       "      <td>ICT service exports (BoP, current US$)</td>\n",
       "    </tr>\n",
       "    <tr>\n",
       "      <th>3</th>\n",
       "      <td>ICT service exports (BoP, current US$)</td>\n",
       "    </tr>\n",
       "    <tr>\n",
       "      <th>4</th>\n",
       "      <td>ICT service exports (BoP, current US$)</td>\n",
       "    </tr>\n",
       "    <tr>\n",
       "      <th>...</th>\n",
       "      <td>...</td>\n",
       "    </tr>\n",
       "    <tr>\n",
       "      <th>1335</th>\n",
       "      <td>Personal computers (per 100 people)</td>\n",
       "    </tr>\n",
       "    <tr>\n",
       "      <th>1336</th>\n",
       "      <td>Personal computers (per 100 people)</td>\n",
       "    </tr>\n",
       "    <tr>\n",
       "      <th>1337</th>\n",
       "      <td>Personal computers (per 100 people)</td>\n",
       "    </tr>\n",
       "    <tr>\n",
       "      <th>1338</th>\n",
       "      <td>Personal computers (per 100 people)</td>\n",
       "    </tr>\n",
       "    <tr>\n",
       "      <th>1339</th>\n",
       "      <td>Personal computers (per 100 people)</td>\n",
       "    </tr>\n",
       "  </tbody>\n",
       "</table>\n",
       "<p>1340 rows × 1 columns</p>\n",
       "</div>"
      ],
      "text/plain": [
       "                              Indicator Name\n",
       "0                            #indicator+name\n",
       "1     ICT service exports (BoP, current US$)\n",
       "2     ICT service exports (BoP, current US$)\n",
       "3     ICT service exports (BoP, current US$)\n",
       "4     ICT service exports (BoP, current US$)\n",
       "...                                      ...\n",
       "1335     Personal computers (per 100 people)\n",
       "1336     Personal computers (per 100 people)\n",
       "1337     Personal computers (per 100 people)\n",
       "1338     Personal computers (per 100 people)\n",
       "1339     Personal computers (per 100 people)\n",
       "\n",
       "[1340 rows x 1 columns]"
      ]
     },
     "execution_count": 110,
     "metadata": {},
     "output_type": "execute_result"
    }
   ],
   "source": [
    "services=ocha_dataset.drop(['Country Name', 'Country ISO3', 'Year','Indicator Code', 'Value'], axis=1)\n",
    "services"
   ]
  },
  {
   "cell_type": "code",
   "execution_count": 111,
   "metadata": {},
   "outputs": [
    {
     "data": {
      "text/plain": [
       "Index(['Indicator Name'], dtype='object')"
      ]
     },
     "execution_count": 111,
     "metadata": {},
     "output_type": "execute_result"
    }
   ],
   "source": [
    "services.columns"
   ]
  },
  {
   "cell_type": "markdown",
   "metadata": {},
   "source": [
    "Natural Language Processing"
   ]
  },
  {
   "cell_type": "markdown",
   "metadata": {},
   "source": [
    "Text Pre-Processing:Cleaning text"
   ]
  },
  {
   "cell_type": "code",
   "execution_count": 112,
   "metadata": {},
   "outputs": [],
   "source": [
    "import nltk\n",
    "import re\n",
    "from nltk.tokenize import word_tokenize,sent_tokenize\n",
    "from nltk.corpus import stopwords\n",
    "from nltk.stem import WordNetLemmatizer,PorterStemmer\n",
    "import string\n",
    "import gensim\n",
    "from gensim.utils import simple_preprocess\n",
    "from gensim.models.ldamulticore import LdaMulticore\n",
    "from gensim import corpora\n"
   ]
  },
  {
   "cell_type": "code",
   "execution_count": 113,
   "metadata": {},
   "outputs": [
    {
     "name": "stderr",
     "output_type": "stream",
     "text": [
      "[nltk_data] Downloading package punkt to\n",
      "[nltk_data]     C:\\Users\\hp\\AppData\\Roaming\\nltk_data...\n",
      "[nltk_data]   Package punkt is already up-to-date!\n",
      "[nltk_data] Downloading package stopwords to\n",
      "[nltk_data]     C:\\Users\\hp\\AppData\\Roaming\\nltk_data...\n",
      "[nltk_data]   Package stopwords is already up-to-date!\n",
      "[nltk_data] Downloading package wordnet to\n",
      "[nltk_data]     C:\\Users\\hp\\AppData\\Roaming\\nltk_data...\n",
      "[nltk_data]   Package wordnet is already up-to-date!\n"
     ]
    },
    {
     "data": {
      "text/plain": [
       "True"
      ]
     },
     "execution_count": 113,
     "metadata": {},
     "output_type": "execute_result"
    }
   ],
   "source": [
    "nltk.download('punkt')\n",
    "nltk.download('stopwords')\n",
    "nltk.download('wordnet')\n"
   ]
  },
  {
   "cell_type": "code",
   "execution_count": 114,
   "metadata": {},
   "outputs": [],
   "source": [
    "def pre_process(text):\n",
    "    # Tokenization: Split the text into sentences and the sentences into words\n",
    "    sentences = sent_tokenize(text)\n",
    "    words = [word_tokenize(sentence) for sentence in sentences]\n",
    "\n",
    "    # Lowercase the words and remove punctuation\n",
    "    words = [[word.lower() for word in sentence if word.isalnum()] for sentence in words]\n",
    "\n",
    "    # Remove words with fewer than 3 characters\n",
    "    words = [[word for word in sentence if len(word) > 2] for sentence in words]\n",
    "\n",
    "    # Remove stopwords\n",
    "    stop_words = set(stopwords.words('english'))\n",
    "    words = [[word for word in sentence if word not in stop_words] for sentence in words]\n",
    "\n",
    "    # Lemmatization\n",
    "    lemmatizer = WordNetLemmatizer()\n",
    "    words = [[lemmatizer.lemmatize(word) for word in sentence] for sentence in words]\n",
    "\n",
    "    # Stemming\n",
    "    stemmer = PorterStemmer()\n",
    "    words = [[stemmer.stem(word) for word in sentence] for sentence in words]\n",
    "    \n",
    "    #removing numbers\n",
    "    words=re.sub(r'\\d+','',text)\n",
    "    \n",
    "    #removing extra whitespace\n",
    "    words=re.sub(r'\\s+',' ',text).strip()\n",
    "    \n",
    "    # Remove punctuation (optional)\n",
    "    words = re.sub(r'[^\\w\\s]', '', text)\n",
    "    \n",
    "\n",
    "    return words\n",
    "\n",
    "\n",
    "\n"
   ]
  },
  {
   "cell_type": "code",
   "execution_count": 115,
   "metadata": {},
   "outputs": [
    {
     "data": {
      "text/plain": [
       "0                            indicatorname\n",
       "1       ICT service exports BoP current US\n",
       "2       ICT service exports BoP current US\n",
       "3       ICT service exports BoP current US\n",
       "4       ICT service exports BoP current US\n",
       "                       ...                \n",
       "1335     Personal computers per 100 people\n",
       "1336     Personal computers per 100 people\n",
       "1337     Personal computers per 100 people\n",
       "1338     Personal computers per 100 people\n",
       "1339     Personal computers per 100 people\n",
       "Name: Indicator Name, Length: 1340, dtype: object"
      ]
     },
     "execution_count": 115,
     "metadata": {},
     "output_type": "execute_result"
    }
   ],
   "source": [
    "services['Indicator Name']=services['Indicator Name'].apply(pre_process)\n",
    "services['Indicator Name']"
   ]
  },
  {
   "cell_type": "code",
   "execution_count": null,
   "metadata": {},
   "outputs": [],
   "source": []
  },
  {
   "cell_type": "markdown",
   "metadata": {},
   "source": [
    "Data Exploration"
   ]
  },
  {
   "cell_type": "code",
   "execution_count": 116,
   "metadata": {},
   "outputs": [
    {
     "data": {
      "image/png": "[encoded data removed]",
      "text/plain": [
       "<Figure size 640x480 with 1 Axes>"
      ]
     },
     "metadata": {},
     "output_type": "display_data"
    }
   ],
   "source": [
    "#word cloud\n",
    "from wordcloud import WordCloud\n",
    "#Remove rows with missing values in 'Indicator Name' column and convert to strings\n",
    "cleaned_text = services['Indicator Name'].dropna().astype(str)\n",
    "# Concatenate all texts into a single string\n",
    "text_combined = ' '.join(cleaned_text)\n",
    "# Generate a word cloud image\n",
    "wordcloud = WordCloud().generate(text_combined)\n",
    "# Display the generated image:\n",
    "# the matplotlib way:\n",
    "import matplotlib.pyplot as plt\n",
    "plt.imshow(wordcloud.recolor(random_state=2017))\n",
    "plt.title('Most Frequent Words')\n",
    "plt.axis(\"off\")\n",
    "plt.show()"
   ]
  },
  {
   "cell_type": "code",
   "execution_count": null,
   "metadata": {},
   "outputs": [],
   "source": []
  },
  {
   "cell_type": "markdown",
   "metadata": {},
   "source": [
    "PPRA Awarded contracts - Kenya - This dataset shows the tenders awarded to various organizations and the services they offered in 2019. We will use this data to train our model in identifying the services a user feels should be improved ."
   ]
  },
  {
   "cell_type": "code",
   "execution_count": 117,
   "metadata": {},
   "outputs": [
    {
     "data": {
      "text/html": [
       "<div>\n",
       "<style scoped>\n",
       "    .dataframe tbody tr th:only-of-type {\n",
       "        vertical-align: middle;\n",
       "    }\n",
       "\n",
       "    .dataframe tbody tr th {\n",
       "        vertical-align: top;\n",
       "    }\n",
       "\n",
       "    .dataframe thead th {\n",
       "        text-align: right;\n",
       "    }\n",
       "</style>\n",
       "<table border=\"1\" class=\"dataframe\">\n",
       "  <thead>\n",
       "    <tr style=\"text-align: right;\">\n",
       "      <th></th>\n",
       "      <th>id</th>\n",
       "      <th>tender-title</th>\n",
       "      <th>tender-ref_No</th>\n",
       "      <th>contract_amount</th>\n",
       "      <th>contract_code</th>\n",
       "      <th>contract_status</th>\n",
       "      <th>created_at</th>\n",
       "      <th>expected_completion_date</th>\n",
       "      <th>month</th>\n",
       "      <th>org_name</th>\n",
       "      <th>pin_number</th>\n",
       "      <th>supplier_name</th>\n",
       "      <th>tender_award_date</th>\n",
       "      <th>type</th>\n",
       "      <th>updated_at</th>\n",
       "      <th>year</th>\n",
       "    </tr>\n",
       "  </thead>\n",
       "  <tbody>\n",
       "    <tr>\n",
       "      <th>0</th>\n",
       "      <td>0</td>\n",
       "      <td>provision of security services.</td>\n",
       "      <td>NTZDC/TN/03/2018/19/20</td>\n",
       "      <td>4,852,800.00</td>\n",
       "      <td>MZ4BVH7F</td>\n",
       "      <td>Ongoing</td>\n",
       "      <td>2019-03-11 16:02:26</td>\n",
       "      <td>2019-12-31</td>\n",
       "      <td>Dec</td>\n",
       "      <td>Nyayo Tea Zones Develop Corporation</td>\n",
       "      <td>P051165790I</td>\n",
       "      <td>kleen homes security services limited</td>\n",
       "      <td>2019-12-24</td>\n",
       "      <td>State Corporation</td>\n",
       "      <td>8 Months</td>\n",
       "      <td>2019</td>\n",
       "    </tr>\n",
       "    <tr>\n",
       "      <th>1</th>\n",
       "      <td>1</td>\n",
       "      <td>supply and delivery of office safe and bookshe...</td>\n",
       "      <td>KFS/038/2018-2019</td>\n",
       "      <td>42,000.00</td>\n",
       "      <td>VV12D2BJ</td>\n",
       "      <td>Ongoing</td>\n",
       "      <td>2019-01-30 11:24:19</td>\n",
       "      <td>2019-02-15</td>\n",
       "      <td>Dec</td>\n",
       "      <td>Kenya Forest Service</td>\n",
       "      <td>P051540293F</td>\n",
       "      <td>ample express general supplies</td>\n",
       "      <td>2019-12-24</td>\n",
       "      <td>State Corporation</td>\n",
       "      <td>0 Days</td>\n",
       "      <td>2019</td>\n",
       "    </tr>\n",
       "    <tr>\n",
       "      <th>2</th>\n",
       "      <td>2</td>\n",
       "      <td>supply of safety shoes</td>\n",
       "      <td>RFX7702</td>\n",
       "      <td>40,728.00</td>\n",
       "      <td>R1I9USRQ</td>\n",
       "      <td>Ongoing</td>\n",
       "      <td>2019-01-14 15:25:17</td>\n",
       "      <td>2019-01-04</td>\n",
       "      <td>Dec</td>\n",
       "      <td>Kenya Airport Authority</td>\n",
       "      <td>P051143344Z</td>\n",
       "      <td>zocom limited</td>\n",
       "      <td>2019-12-05</td>\n",
       "      <td>State Corporation</td>\n",
       "      <td>0 Days</td>\n",
       "      <td>2019</td>\n",
       "    </tr>\n",
       "    <tr>\n",
       "      <th>3</th>\n",
       "      <td>3</td>\n",
       "      <td>supply and delivery of promotional items</td>\n",
       "      <td>GDC/HQS/RFQ/015/2018-2019</td>\n",
       "      <td>97,257.00</td>\n",
       "      <td>NMFBVWNJ</td>\n",
       "      <td>Ongoing</td>\n",
       "      <td>2019-02-05 11:39:49</td>\n",
       "      <td>2019-01-28</td>\n",
       "      <td>Dec</td>\n",
       "      <td>Geothermal Development Company</td>\n",
       "      <td>P051546295V</td>\n",
       "      <td>tremit enterprises</td>\n",
       "      <td>2019-12-05</td>\n",
       "      <td>State Corporation</td>\n",
       "      <td>0 Days</td>\n",
       "      <td>2019</td>\n",
       "    </tr>\n",
       "    <tr>\n",
       "      <th>4</th>\n",
       "      <td>4</td>\n",
       "      <td>supply and delivery of airtime</td>\n",
       "      <td>EACC/25/2018-2019</td>\n",
       "      <td>940,000.00</td>\n",
       "      <td>HBI8BFUZ</td>\n",
       "      <td>Ongoing</td>\n",
       "      <td>2019-01-28 15:44:25</td>\n",
       "      <td>2019-01-08</td>\n",
       "      <td>Nov</td>\n",
       "      <td>Ethics and Anti-Corruption Commission</td>\n",
       "      <td>P051129820X</td>\n",
       "      <td>safaricom plc</td>\n",
       "      <td>2019-11-30</td>\n",
       "      <td>Commissions and Independent Offices</td>\n",
       "      <td>0 Days</td>\n",
       "      <td>2019</td>\n",
       "    </tr>\n",
       "    <tr>\n",
       "      <th>...</th>\n",
       "      <td>...</td>\n",
       "      <td>...</td>\n",
       "      <td>...</td>\n",
       "      <td>...</td>\n",
       "      <td>...</td>\n",
       "      <td>...</td>\n",
       "      <td>...</td>\n",
       "      <td>...</td>\n",
       "      <td>...</td>\n",
       "      <td>...</td>\n",
       "      <td>...</td>\n",
       "      <td>...</td>\n",
       "      <td>...</td>\n",
       "      <td>...</td>\n",
       "      <td>...</td>\n",
       "      <td>...</td>\n",
       "    </tr>\n",
       "    <tr>\n",
       "      <th>4150</th>\n",
       "      <td>4150</td>\n",
       "      <td>supply and delivery of stationery</td>\n",
       "      <td>RFQ NO.1843</td>\n",
       "      <td>340,000.00</td>\n",
       "      <td>AQLPQDRW</td>\n",
       "      <td>Ongoing</td>\n",
       "      <td>2019-03-08 14:56:43</td>\n",
       "      <td>1970-01-01</td>\n",
       "      <td>Jan</td>\n",
       "      <td>Taita Taveta University</td>\n",
       "      <td>P051680839J</td>\n",
       "      <td>king tai trading company limited</td>\n",
       "      <td>1970-01-01</td>\n",
       "      <td>Public Universities</td>\n",
       "      <td>0 Days</td>\n",
       "      <td>1970</td>\n",
       "    </tr>\n",
       "    <tr>\n",
       "      <th>4151</th>\n",
       "      <td>4151</td>\n",
       "      <td>supply and delivery of food stuff</td>\n",
       "      <td>RFQ NO. 1,809</td>\n",
       "      <td>48,000.00</td>\n",
       "      <td>FSJUVDX8</td>\n",
       "      <td>Ongoing</td>\n",
       "      <td>2019-03-08 15:01:20</td>\n",
       "      <td>1970-01-01</td>\n",
       "      <td>Jan</td>\n",
       "      <td>Taita Taveta University</td>\n",
       "      <td>A009126955Z</td>\n",
       "      <td>lightworm suppliers</td>\n",
       "      <td>1970-01-01</td>\n",
       "      <td>Public Universities</td>\n",
       "      <td>0 Days</td>\n",
       "      <td>1970</td>\n",
       "    </tr>\n",
       "    <tr>\n",
       "      <th>4152</th>\n",
       "      <td>4152</td>\n",
       "      <td>provision of airticketing services</td>\n",
       "      <td>JSC/002/2017-2018</td>\n",
       "      <td>7,970,741.00</td>\n",
       "      <td>IQIG3PUW</td>\n",
       "      <td>Ongoing</td>\n",
       "      <td>2019-03-11 12:55:27</td>\n",
       "      <td>2019-06-06</td>\n",
       "      <td>Jan</td>\n",
       "      <td>Judicial Service Commission</td>\n",
       "      <td>P051121337G</td>\n",
       "      <td>silver bird travel plus limited</td>\n",
       "      <td>1970-01-01</td>\n",
       "      <td>Commissions and Independent Offices</td>\n",
       "      <td>2 Months</td>\n",
       "      <td>1970</td>\n",
       "    </tr>\n",
       "    <tr>\n",
       "      <th>4153</th>\n",
       "      <td>4153</td>\n",
       "      <td>provision of maintenance services for governme...</td>\n",
       "      <td>ICTA/NCB/02/2017-2018</td>\n",
       "      <td>17,942,941.00</td>\n",
       "      <td>AWHLEMKE</td>\n",
       "      <td>Ongoing</td>\n",
       "      <td>2018-08-31 12:19:40</td>\n",
       "      <td>1762-01-19</td>\n",
       "      <td>Jan</td>\n",
       "      <td>ICT Authority</td>\n",
       "      <td>P051321323H</td>\n",
       "      <td>streamlan solutions (e.a) limited</td>\n",
       "      <td>1862-01-18</td>\n",
       "      <td>State Corporation</td>\n",
       "      <td>0 Days</td>\n",
       "      <td>1862</td>\n",
       "    </tr>\n",
       "    <tr>\n",
       "      <th>4154</th>\n",
       "      <td>4154</td>\n",
       "      <td>provision of maintenance services for governme...</td>\n",
       "      <td>ICTA/NCB/02/2017-2018</td>\n",
       "      <td>47,918,888.00</td>\n",
       "      <td>EEAZRZHA</td>\n",
       "      <td>Ongoing</td>\n",
       "      <td>2018-08-31 12:30:58</td>\n",
       "      <td>1762-01-19</td>\n",
       "      <td>Jan</td>\n",
       "      <td>ICT Authority</td>\n",
       "      <td>P051106190Y</td>\n",
       "      <td>symphony technologies limited</td>\n",
       "      <td>1862-01-18</td>\n",
       "      <td>State Corporation</td>\n",
       "      <td>0 Days</td>\n",
       "      <td>1862</td>\n",
       "    </tr>\n",
       "  </tbody>\n",
       "</table>\n",
       "<p>4155 rows × 16 columns</p>\n",
       "</div>"
      ],
      "text/plain": [
       "        id                                       tender-title  \\\n",
       "0        0                    provision of security services.   \n",
       "1        1  supply and delivery of office safe and bookshe...   \n",
       "2        2                             supply of safety shoes   \n",
       "3        3           supply and delivery of promotional items   \n",
       "4        4                     supply and delivery of airtime   \n",
       "...    ...                                                ...   \n",
       "4150  4150                  supply and delivery of stationery   \n",
       "4151  4151                  supply and delivery of food stuff   \n",
       "4152  4152                 provision of airticketing services   \n",
       "4153  4153  provision of maintenance services for governme...   \n",
       "4154  4154  provision of maintenance services for governme...   \n",
       "\n",
       "                  tender-ref_No contract_amount contract_code contract_status  \\\n",
       "0        NTZDC/TN/03/2018/19/20    4,852,800.00      MZ4BVH7F         Ongoing   \n",
       "1             KFS/038/2018-2019       42,000.00      VV12D2BJ         Ongoing   \n",
       "2                       RFX7702       40,728.00      R1I9USRQ         Ongoing   \n",
       "3     GDC/HQS/RFQ/015/2018-2019       97,257.00      NMFBVWNJ         Ongoing   \n",
       "4             EACC/25/2018-2019      940,000.00      HBI8BFUZ         Ongoing   \n",
       "...                         ...             ...           ...             ...   \n",
       "4150                RFQ NO.1843      340,000.00      AQLPQDRW         Ongoing   \n",
       "4151             RFQ NO. 1,809        48,000.00      FSJUVDX8         Ongoing   \n",
       "4152          JSC/002/2017-2018    7,970,741.00      IQIG3PUW         Ongoing   \n",
       "4153      ICTA/NCB/02/2017-2018   17,942,941.00      AWHLEMKE         Ongoing   \n",
       "4154      ICTA/NCB/02/2017-2018   47,918,888.00      EEAZRZHA         Ongoing   \n",
       "\n",
       "               created_at expected_completion_date month  \\\n",
       "0     2019-03-11 16:02:26               2019-12-31   Dec   \n",
       "1     2019-01-30 11:24:19               2019-02-15   Dec   \n",
       "2     2019-01-14 15:25:17               2019-01-04   Dec   \n",
       "3     2019-02-05 11:39:49               2019-01-28   Dec   \n",
       "4     2019-01-28 15:44:25               2019-01-08   Nov   \n",
       "...                   ...                      ...   ...   \n",
       "4150  2019-03-08 14:56:43               1970-01-01   Jan   \n",
       "4151  2019-03-08 15:01:20               1970-01-01   Jan   \n",
       "4152  2019-03-11 12:55:27               2019-06-06   Jan   \n",
       "4153  2018-08-31 12:19:40               1762-01-19   Jan   \n",
       "4154  2018-08-31 12:30:58               1762-01-19   Jan   \n",
       "\n",
       "                                   org_name   pin_number  \\\n",
       "0       Nyayo Tea Zones Develop Corporation  P051165790I   \n",
       "1                      Kenya Forest Service  P051540293F   \n",
       "2                   Kenya Airport Authority  P051143344Z   \n",
       "3            Geothermal Development Company  P051546295V   \n",
       "4     Ethics and Anti-Corruption Commission  P051129820X   \n",
       "...                                     ...          ...   \n",
       "4150                Taita Taveta University  P051680839J   \n",
       "4151                Taita Taveta University  A009126955Z   \n",
       "4152            Judicial Service Commission  P051121337G   \n",
       "4153                          ICT Authority  P051321323H   \n",
       "4154                          ICT Authority  P051106190Y   \n",
       "\n",
       "                              supplier_name tender_award_date  \\\n",
       "0     kleen homes security services limited        2019-12-24   \n",
       "1            ample express general supplies        2019-12-24   \n",
       "2                             zocom limited        2019-12-05   \n",
       "3                        tremit enterprises        2019-12-05   \n",
       "4                             safaricom plc        2019-11-30   \n",
       "...                                     ...               ...   \n",
       "4150       king tai trading company limited        1970-01-01   \n",
       "4151                    lightworm suppliers        1970-01-01   \n",
       "4152        silver bird travel plus limited        1970-01-01   \n",
       "4153      streamlan solutions (e.a) limited        1862-01-18   \n",
       "4154          symphony technologies limited        1862-01-18   \n",
       "\n",
       "                                     type updated_at  year  \n",
       "0                       State Corporation   8 Months  2019  \n",
       "1                       State Corporation     0 Days  2019  \n",
       "2                       State Corporation     0 Days  2019  \n",
       "3                       State Corporation     0 Days  2019  \n",
       "4     Commissions and Independent Offices     0 Days  2019  \n",
       "...                                   ...        ...   ...  \n",
       "4150                  Public Universities     0 Days  1970  \n",
       "4151                  Public Universities     0 Days  1970  \n",
       "4152  Commissions and Independent Offices   2 Months  1970  \n",
       "4153                    State Corporation     0 Days  1862  \n",
       "4154                    State Corporation     0 Days  1862  \n",
       "\n",
       "[4155 rows x 16 columns]"
      ]
     },
     "execution_count": 117,
     "metadata": {},
     "output_type": "execute_result"
    }
   ],
   "source": [
    "ppra=pd.read_csv('ke_contracts.csv')\n",
    "ppra"
   ]
  },
  {
   "cell_type": "code",
   "execution_count": 118,
   "metadata": {},
   "outputs": [
    {
     "name": "stdout",
     "output_type": "stream",
     "text": [
      "<class 'pandas.core.frame.DataFrame'>\n",
      "RangeIndex: 4155 entries, 0 to 4154\n",
      "Data columns (total 16 columns):\n",
      " #   Column                    Non-Null Count  Dtype \n",
      "---  ------                    --------------  ----- \n",
      " 0   id                        4155 non-null   int64 \n",
      " 1   tender-title              4155 non-null   object\n",
      " 2   tender-ref_No             4155 non-null   object\n",
      " 3   contract_amount           4155 non-null   object\n",
      " 4   contract_code             4155 non-null   object\n",
      " 5   contract_status           4155 non-null   object\n",
      " 6   created_at                4155 non-null   object\n",
      " 7   expected_completion_date  4155 non-null   object\n",
      " 8   month                     4155 non-null   object\n",
      " 9   org_name                  4155 non-null   object\n",
      " 10  pin_number                4155 non-null   object\n",
      " 11  supplier_name             4154 non-null   object\n",
      " 12  tender_award_date         4155 non-null   object\n",
      " 13  type                      4155 non-null   object\n",
      " 14  updated_at                4155 non-null   object\n",
      " 15  year                      4155 non-null   int64 \n",
      "dtypes: int64(2), object(14)\n",
      "memory usage: 519.5+ KB\n"
     ]
    }
   ],
   "source": [
    "ppra.info()"
   ]
  },
  {
   "cell_type": "code",
   "execution_count": 119,
   "metadata": {},
   "outputs": [
    {
     "data": {
      "text/plain": [
       "Index(['id', 'tender-title', 'tender-ref_No', 'contract_amount',\n",
       "       'contract_code', 'contract_status', 'created_at',\n",
       "       'expected_completion_date', 'month', 'org_name', 'pin_number',\n",
       "       'supplier_name', 'tender_award_date', 'type', 'updated_at', 'year'],\n",
       "      dtype='object')"
      ]
     },
     "execution_count": 119,
     "metadata": {},
     "output_type": "execute_result"
    }
   ],
   "source": [
    "ppra.columns"
   ]
  },
  {
   "cell_type": "code",
   "execution_count": 120,
   "metadata": {},
   "outputs": [],
   "source": [
    "ppra_services=ppra.drop(['id','tender-ref_No', 'contract_amount',\n",
    "       'contract_code', 'contract_status', 'created_at',\n",
    "       'expected_completion_date', 'month', 'org_name', 'pin_number',\n",
    "       'supplier_name', 'tender_award_date', 'type', 'updated_at', 'year'], axis=1)\n"
   ]
  },
  {
   "cell_type": "code",
   "execution_count": 121,
   "metadata": {},
   "outputs": [
    {
     "data": {
      "text/html": [
       "<div>\n",
       "<style scoped>\n",
       "    .dataframe tbody tr th:only-of-type {\n",
       "        vertical-align: middle;\n",
       "    }\n",
       "\n",
       "    .dataframe tbody tr th {\n",
       "        vertical-align: top;\n",
       "    }\n",
       "\n",
       "    .dataframe thead th {\n",
       "        text-align: right;\n",
       "    }\n",
       "</style>\n",
       "<table border=\"1\" class=\"dataframe\">\n",
       "  <thead>\n",
       "    <tr style=\"text-align: right;\">\n",
       "      <th></th>\n",
       "      <th>tender-title</th>\n",
       "    </tr>\n",
       "  </thead>\n",
       "  <tbody>\n",
       "    <tr>\n",
       "      <th>0</th>\n",
       "      <td>provision of security services.</td>\n",
       "    </tr>\n",
       "    <tr>\n",
       "      <th>1</th>\n",
       "      <td>supply and delivery of office safe and bookshe...</td>\n",
       "    </tr>\n",
       "    <tr>\n",
       "      <th>2</th>\n",
       "      <td>supply of safety shoes</td>\n",
       "    </tr>\n",
       "    <tr>\n",
       "      <th>3</th>\n",
       "      <td>supply and delivery of promotional items</td>\n",
       "    </tr>\n",
       "    <tr>\n",
       "      <th>4</th>\n",
       "      <td>supply and delivery of airtime</td>\n",
       "    </tr>\n",
       "    <tr>\n",
       "      <th>5</th>\n",
       "      <td>supply and delivery of epson receipt printer l...</td>\n",
       "    </tr>\n",
       "    <tr>\n",
       "      <th>6</th>\n",
       "      <td>supply and delivery of 51 seater bus(re-tender)</td>\n",
       "    </tr>\n",
       "    <tr>\n",
       "      <th>7</th>\n",
       "      <td>supply and delivery of foodstuffs (perishables)</td>\n",
       "    </tr>\n",
       "    <tr>\n",
       "      <th>8</th>\n",
       "      <td>supply and delivery of huma drugs</td>\n",
       "    </tr>\n",
       "    <tr>\n",
       "      <th>9</th>\n",
       "      <td>supply and delivery of huma drugs</td>\n",
       "    </tr>\n",
       "  </tbody>\n",
       "</table>\n",
       "</div>"
      ],
      "text/plain": [
       "                                        tender-title\n",
       "0                    provision of security services.\n",
       "1  supply and delivery of office safe and bookshe...\n",
       "2                             supply of safety shoes\n",
       "3           supply and delivery of promotional items\n",
       "4                     supply and delivery of airtime\n",
       "5  supply and delivery of epson receipt printer l...\n",
       "6    supply and delivery of 51 seater bus(re-tender)\n",
       "7    supply and delivery of foodstuffs (perishables)\n",
       "8                  supply and delivery of huma drugs\n",
       "9                  supply and delivery of huma drugs"
      ]
     },
     "execution_count": 121,
     "metadata": {},
     "output_type": "execute_result"
    }
   ],
   "source": [
    "ppra_services.head(10)"
   ]
  },
  {
   "cell_type": "code",
   "execution_count": 122,
   "metadata": {},
   "outputs": [
    {
     "data": {
      "text/plain": [
       "0                         provision of security services.\n",
       "1       supply and delivery of office safe and bookshe...\n",
       "2                                  supply of safety shoes\n",
       "3                supply and delivery of promotional items\n",
       "4                          supply and delivery of airtime\n",
       "                              ...                        \n",
       "4150                    supply and delivery of stationery\n",
       "4151                    supply and delivery of food stuff\n",
       "4152                   provision of airticketing services\n",
       "4153    provision of maintenance services for governme...\n",
       "4154    provision of maintenance services for governme...\n",
       "Name: tender-title, Length: 4155, dtype: object"
      ]
     },
     "execution_count": 122,
     "metadata": {},
     "output_type": "execute_result"
    }
   ],
   "source": [
    "#Remove rows with missing values in 'tender-title' column and convert to strings\n",
    "ppra_services = ppra_services['tender-title'].dropna().astype(str)\n",
    "ppra_services"
   ]
  },
  {
   "cell_type": "markdown",
   "metadata": {},
   "source": [
    "NLP:Text Preprocessing"
   ]
  },
  {
   "cell_type": "code",
   "execution_count": 123,
   "metadata": {},
   "outputs": [],
   "source": [
    "import nltk\n",
    "import re\n",
    "from nltk.tokenize import word_tokenize,sent_tokenize\n",
    "from nltk.corpus import stopwords\n",
    "from nltk.stem import WordNetLemmatizer,PorterStemmer\n",
    "import string\n",
    "import gensim\n",
    "from gensim.utils import simple_preprocess\n",
    "from gensim.models.ldamulticore import LdaMulticore\n",
    "from gensim import corpora\n"
   ]
  },
  {
   "cell_type": "code",
   "execution_count": 124,
   "metadata": {},
   "outputs": [
    {
     "name": "stderr",
     "output_type": "stream",
     "text": [
      "[nltk_data] Downloading package punkt to\n",
      "[nltk_data]     C:\\Users\\hp\\AppData\\Roaming\\nltk_data...\n",
      "[nltk_data]   Package punkt is already up-to-date!\n",
      "[nltk_data] Downloading package stopwords to\n",
      "[nltk_data]     C:\\Users\\hp\\AppData\\Roaming\\nltk_data...\n",
      "[nltk_data]   Package stopwords is already up-to-date!\n",
      "[nltk_data] Downloading package wordnet to\n",
      "[nltk_data]     C:\\Users\\hp\\AppData\\Roaming\\nltk_data...\n",
      "[nltk_data]   Package wordnet is already up-to-date!\n"
     ]
    },
    {
     "data": {
      "text/plain": [
       "True"
      ]
     },
     "execution_count": 124,
     "metadata": {},
     "output_type": "execute_result"
    }
   ],
   "source": [
    "nltk.download('punkt')\n",
    "nltk.download('stopwords')\n",
    "nltk.download('wordnet')\n"
   ]
  },
  {
   "cell_type": "code",
   "execution_count": null,
   "metadata": {},
   "outputs": [],
   "source": [
    "ppra_services['tender-title']'Indicator Name']=services['Indicator Name'].apply(pre_process)\n",
    "services['Indicator Name']"
   ]
  }
 ],
 "metadata": {
  "kernelspec": {
   "display_name": "myenv",
   "language": "python",
   "name": "python3"
  },
  "language_info": {
   "codemirror_mode": {
    "name": "ipython",
    "version": 3
   },
   "file_extension": ".py",
   "mimetype": "text/x-python",
   "name": "python",
   "nbconvert_exporter": "python",
   "pygments_lexer": "ipython3",
   "version": "3.9.16"
  }
 },
 "nbformat": 4,
 "nbformat_minor": 2
}
