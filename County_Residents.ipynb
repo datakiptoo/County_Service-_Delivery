{
 "cells": [
  {
   "cell_type": "markdown",
   "metadata": {},
   "source": [
    "# County Residence Interface\n",
    "\n",
    "County residents upon logging in, are provided with an interface where they are able to select their county of \n",
    "\n",
    "residence from a predefined list which we are going to fetch from an API that contains the list of the 47 counties.\n",
    "\n",
    "The application utilises natural language processing techniques to analyse the input from residents and extract \n",
    "\n",
    "relevant information.This includes data preprocessing tasks such as tokenization and lemmatization.Word frequency \n",
    "\n",
    "analysis and sentiment analysis is carried out on the preprocessed data.From the analysed data, a pie chart will be \n",
    "\n",
    "constructed to visualise the distribution of the services. Each category of the service improvement will be \n",
    "\n",
    "represented by the segments of the pie-chart"
   ]
  },
  {
   "cell_type": "markdown",
   "metadata": {},
   "source": [
    "## Training Data \n",
    "\n",
    "OCHA SERVICES DATA: This dataset is a detailed dataset containing data regarding the many different services and \n",
    "\n",
    "amenities available in Kenya, and the date when they were recorded. We will use this data in training our model to \n",
    "\n",
    "identify the specific service or amenity a resident wants improved. Below is the link to the dataset:"
   ]
  },
  {
   "cell_type": "code",
   "execution_count": null,
   "metadata": {},
   "outputs": [],
   "source": []
  },
  {
   "cell_type": "code",
   "execution_count": 15,
   "metadata": {},
   "outputs": [],
   "source": [
    "import pandas as pd\n",
    "import numpy as np \n",
    "import seaborn as sns\n",
    "import matplotlib.pyplot as plt\n",
    "\n",
    "\n"
   ]
  },
  {
   "cell_type": "code",
   "execution_count": 16,
   "metadata": {},
   "outputs": [
    {
     "data": {
      "text/html": [
       "<div>\n",
       "<style scoped>\n",
       "    .dataframe tbody tr th:only-of-type {\n",
       "        vertical-align: middle;\n",
       "    }\n",
       "\n",
       "    .dataframe tbody tr th {\n",
       "        vertical-align: top;\n",
       "    }\n",
       "\n",
       "    .dataframe thead th {\n",
       "        text-align: right;\n",
       "    }\n",
       "</style>\n",
       "<table border=\"1\" class=\"dataframe\">\n",
       "  <thead>\n",
       "    <tr style=\"text-align: right;\">\n",
       "      <th></th>\n",
       "      <th>Country Name</th>\n",
       "      <th>Country ISO3</th>\n",
       "      <th>Year</th>\n",
       "      <th>Indicator Name</th>\n",
       "      <th>Indicator Code</th>\n",
       "      <th>Value</th>\n",
       "    </tr>\n",
       "  </thead>\n",
       "  <tbody>\n",
       "    <tr>\n",
       "      <th>0</th>\n",
       "      <td>#country+name</td>\n",
       "      <td>#country+code</td>\n",
       "      <td>#date+year</td>\n",
       "      <td>#indicator+name</td>\n",
       "      <td>#indicator+code</td>\n",
       "      <td>#indicator+value+num</td>\n",
       "    </tr>\n",
       "    <tr>\n",
       "      <th>1</th>\n",
       "      <td>Kenya</td>\n",
       "      <td>KEN</td>\n",
       "      <td>2021</td>\n",
       "      <td>ICT service exports (BoP, current US$)</td>\n",
       "      <td>BX.GSR.CCIS.CD</td>\n",
       "      <td>973328921.924682</td>\n",
       "    </tr>\n",
       "    <tr>\n",
       "      <th>2</th>\n",
       "      <td>Kenya</td>\n",
       "      <td>KEN</td>\n",
       "      <td>2020</td>\n",
       "      <td>ICT service exports (BoP, current US$)</td>\n",
       "      <td>BX.GSR.CCIS.CD</td>\n",
       "      <td>567129881.228679</td>\n",
       "    </tr>\n",
       "    <tr>\n",
       "      <th>3</th>\n",
       "      <td>Kenya</td>\n",
       "      <td>KEN</td>\n",
       "      <td>2019</td>\n",
       "      <td>ICT service exports (BoP, current US$)</td>\n",
       "      <td>BX.GSR.CCIS.CD</td>\n",
       "      <td>628827610.941533</td>\n",
       "    </tr>\n",
       "    <tr>\n",
       "      <th>4</th>\n",
       "      <td>Kenya</td>\n",
       "      <td>KEN</td>\n",
       "      <td>2018</td>\n",
       "      <td>ICT service exports (BoP, current US$)</td>\n",
       "      <td>BX.GSR.CCIS.CD</td>\n",
       "      <td>570245522.266492</td>\n",
       "    </tr>\n",
       "    <tr>\n",
       "      <th>5</th>\n",
       "      <td>Kenya</td>\n",
       "      <td>KEN</td>\n",
       "      <td>2017</td>\n",
       "      <td>ICT service exports (BoP, current US$)</td>\n",
       "      <td>BX.GSR.CCIS.CD</td>\n",
       "      <td>473090014.312925</td>\n",
       "    </tr>\n",
       "    <tr>\n",
       "      <th>6</th>\n",
       "      <td>Kenya</td>\n",
       "      <td>KEN</td>\n",
       "      <td>2016</td>\n",
       "      <td>ICT service exports (BoP, current US$)</td>\n",
       "      <td>BX.GSR.CCIS.CD</td>\n",
       "      <td>451360165.698429</td>\n",
       "    </tr>\n",
       "    <tr>\n",
       "      <th>7</th>\n",
       "      <td>Kenya</td>\n",
       "      <td>KEN</td>\n",
       "      <td>2015</td>\n",
       "      <td>ICT service exports (BoP, current US$)</td>\n",
       "      <td>BX.GSR.CCIS.CD</td>\n",
       "      <td>550307434.561937</td>\n",
       "    </tr>\n",
       "    <tr>\n",
       "      <th>8</th>\n",
       "      <td>Kenya</td>\n",
       "      <td>KEN</td>\n",
       "      <td>2014</td>\n",
       "      <td>ICT service exports (BoP, current US$)</td>\n",
       "      <td>BX.GSR.CCIS.CD</td>\n",
       "      <td>755711724.114998</td>\n",
       "    </tr>\n",
       "    <tr>\n",
       "      <th>9</th>\n",
       "      <td>Kenya</td>\n",
       "      <td>KEN</td>\n",
       "      <td>2013</td>\n",
       "      <td>ICT service exports (BoP, current US$)</td>\n",
       "      <td>BX.GSR.CCIS.CD</td>\n",
       "      <td>515175648.649776</td>\n",
       "    </tr>\n",
       "  </tbody>\n",
       "</table>\n",
       "</div>"
      ],
      "text/plain": [
       "    Country Name   Country ISO3        Year  \\\n",
       "0  #country+name  #country+code  #date+year   \n",
       "1          Kenya            KEN        2021   \n",
       "2          Kenya            KEN        2020   \n",
       "3          Kenya            KEN        2019   \n",
       "4          Kenya            KEN        2018   \n",
       "5          Kenya            KEN        2017   \n",
       "6          Kenya            KEN        2016   \n",
       "7          Kenya            KEN        2015   \n",
       "8          Kenya            KEN        2014   \n",
       "9          Kenya            KEN        2013   \n",
       "\n",
       "                           Indicator Name   Indicator Code  \\\n",
       "0                         #indicator+name  #indicator+code   \n",
       "1  ICT service exports (BoP, current US$)   BX.GSR.CCIS.CD   \n",
       "2  ICT service exports (BoP, current US$)   BX.GSR.CCIS.CD   \n",
       "3  ICT service exports (BoP, current US$)   BX.GSR.CCIS.CD   \n",
       "4  ICT service exports (BoP, current US$)   BX.GSR.CCIS.CD   \n",
       "5  ICT service exports (BoP, current US$)   BX.GSR.CCIS.CD   \n",
       "6  ICT service exports (BoP, current US$)   BX.GSR.CCIS.CD   \n",
       "7  ICT service exports (BoP, current US$)   BX.GSR.CCIS.CD   \n",
       "8  ICT service exports (BoP, current US$)   BX.GSR.CCIS.CD   \n",
       "9  ICT service exports (BoP, current US$)   BX.GSR.CCIS.CD   \n",
       "\n",
       "                  Value  \n",
       "0  #indicator+value+num  \n",
       "1      973328921.924682  \n",
       "2      567129881.228679  \n",
       "3      628827610.941533  \n",
       "4      570245522.266492  \n",
       "5      473090014.312925  \n",
       "6      451360165.698429  \n",
       "7      550307434.561937  \n",
       "8      755711724.114998  \n",
       "9      515175648.649776  "
      ]
     },
     "execution_count": 16,
     "metadata": {},
     "output_type": "execute_result"
    }
   ],
   "source": [
    "ocha_dataset=pd.read_csv(\"infrastructure_ken.csv\")\n",
    "ocha_dataset.head(10)"
   ]
  },
  {
   "cell_type": "code",
   "execution_count": 17,
   "metadata": {},
   "outputs": [
    {
     "name": "stdout",
     "output_type": "stream",
     "text": [
      "<class 'pandas.core.frame.DataFrame'>\n",
      "RangeIndex: 1340 entries, 0 to 1339\n",
      "Data columns (total 6 columns):\n",
      " #   Column          Non-Null Count  Dtype \n",
      "---  ------          --------------  ----- \n",
      " 0   Country Name    1340 non-null   object\n",
      " 1   Country ISO3    1340 non-null   object\n",
      " 2   Year            1340 non-null   object\n",
      " 3   Indicator Name  1340 non-null   object\n",
      " 4   Indicator Code  1340 non-null   object\n",
      " 5   Value           1340 non-null   object\n",
      "dtypes: object(6)\n",
      "memory usage: 62.9+ KB\n"
     ]
    }
   ],
   "source": [
    "ocha_dataset.info()"
   ]
  },
  {
   "cell_type": "code",
   "execution_count": 18,
   "metadata": {},
   "outputs": [
    {
     "data": {
      "text/plain": [
       "Index(['Country Name', 'Country ISO3', 'Year', 'Indicator Name',\n",
       "       'Indicator Code', 'Value'],\n",
       "      dtype='object')"
      ]
     },
     "execution_count": 18,
     "metadata": {},
     "output_type": "execute_result"
    }
   ],
   "source": [
    "ocha_dataset.columns"
   ]
  },
  {
   "cell_type": "code",
   "execution_count": 19,
   "metadata": {},
   "outputs": [
    {
     "data": {
      "text/plain": [
       "Year\n",
       "2009          45\n",
       "2008          44\n",
       "2004          42\n",
       "2007          42\n",
       "2010          41\n",
       "              ..\n",
       "1961           2\n",
       "1960           2\n",
       "1963           2\n",
       "1964           2\n",
       "#date+year     1\n",
       "Name: count, Length: 64, dtype: int64"
      ]
     },
     "execution_count": 19,
     "metadata": {},
     "output_type": "execute_result"
    }
   ],
   "source": [
    "year_counts=ocha_dataset['Year'].value_counts()\n",
    "year_counts"
   ]
  },
  {
   "cell_type": "code",
   "execution_count": 20,
   "metadata": {},
   "outputs": [
    {
     "data": {
      "text/plain": [
       "'Renewable internal freshwater resources per capita (cubic meters)'"
      ]
     },
     "execution_count": 20,
     "metadata": {},
     "output_type": "execute_result"
    }
   ],
   "source": [
    "# Get the most common service across all years\n",
    "most_common_activity = ocha_dataset['Indicator Name'].mode()[0]\n",
    "most_common_activity"
   ]
  },
  {
   "cell_type": "code",
   "execution_count": 21,
   "metadata": {},
   "outputs": [
    {
     "data": {
      "text/html": [
       "<div>\n",
       "<style scoped>\n",
       "    .dataframe tbody tr th:only-of-type {\n",
       "        vertical-align: middle;\n",
       "    }\n",
       "\n",
       "    .dataframe tbody tr th {\n",
       "        vertical-align: top;\n",
       "    }\n",
       "\n",
       "    .dataframe thead th {\n",
       "        text-align: right;\n",
       "    }\n",
       "</style>\n",
       "<table border=\"1\" class=\"dataframe\">\n",
       "  <thead>\n",
       "    <tr style=\"text-align: right;\">\n",
       "      <th></th>\n",
       "      <th>Year</th>\n",
       "      <th>Indicator Name</th>\n",
       "    </tr>\n",
       "  </thead>\n",
       "  <tbody>\n",
       "    <tr>\n",
       "      <th>0</th>\n",
       "      <td>#date+year</td>\n",
       "      <td>#indicator+name</td>\n",
       "    </tr>\n",
       "    <tr>\n",
       "      <th>1</th>\n",
       "      <td>1960</td>\n",
       "      <td>Mobile cellular subscriptions</td>\n",
       "    </tr>\n",
       "    <tr>\n",
       "      <th>2</th>\n",
       "      <td>1961</td>\n",
       "      <td>Renewable internal freshwater resources per ca...</td>\n",
       "    </tr>\n",
       "    <tr>\n",
       "      <th>3</th>\n",
       "      <td>1962</td>\n",
       "      <td>Renewable internal freshwater resources per ca...</td>\n",
       "    </tr>\n",
       "    <tr>\n",
       "      <th>4</th>\n",
       "      <td>1963</td>\n",
       "      <td>Renewable internal freshwater resources per ca...</td>\n",
       "    </tr>\n",
       "    <tr>\n",
       "      <th>5</th>\n",
       "      <td>1964</td>\n",
       "      <td>Renewable internal freshwater resources per ca...</td>\n",
       "    </tr>\n",
       "    <tr>\n",
       "      <th>6</th>\n",
       "      <td>1965</td>\n",
       "      <td>Fixed telephone subscriptions</td>\n",
       "    </tr>\n",
       "    <tr>\n",
       "      <th>7</th>\n",
       "      <td>1966</td>\n",
       "      <td>Fixed telephone subscriptions</td>\n",
       "    </tr>\n",
       "    <tr>\n",
       "      <th>8</th>\n",
       "      <td>1967</td>\n",
       "      <td>Fixed telephone subscriptions</td>\n",
       "    </tr>\n",
       "    <tr>\n",
       "      <th>9</th>\n",
       "      <td>1968</td>\n",
       "      <td>Fixed telephone subscriptions</td>\n",
       "    </tr>\n",
       "  </tbody>\n",
       "</table>\n",
       "</div>"
      ],
      "text/plain": [
       "         Year                                     Indicator Name\n",
       "0  #date+year                                    #indicator+name\n",
       "1        1960                      Mobile cellular subscriptions\n",
       "2        1961  Renewable internal freshwater resources per ca...\n",
       "3        1962  Renewable internal freshwater resources per ca...\n",
       "4        1963  Renewable internal freshwater resources per ca...\n",
       "5        1964  Renewable internal freshwater resources per ca...\n",
       "6        1965                      Fixed telephone subscriptions\n",
       "7        1966                      Fixed telephone subscriptions\n",
       "8        1967                      Fixed telephone subscriptions\n",
       "9        1968                      Fixed telephone subscriptions"
      ]
     },
     "execution_count": 21,
     "metadata": {},
     "output_type": "execute_result"
    }
   ],
   "source": [
    "# Group the data by 'Year' and find the most common services for each year\n",
    "most_common_activities = ocha_dataset.groupby('Year')['Indicator Name'].agg(lambda x: x.mode().iloc[0]).reset_index()\n",
    "most_common_activities.head(10)"
   ]
  },
  {
   "cell_type": "code",
   "execution_count": 22,
   "metadata": {},
   "outputs": [
    {
     "data": {
      "text/html": [
       "<div>\n",
       "<style scoped>\n",
       "    .dataframe tbody tr th:only-of-type {\n",
       "        vertical-align: middle;\n",
       "    }\n",
       "\n",
       "    .dataframe tbody tr th {\n",
       "        vertical-align: top;\n",
       "    }\n",
       "\n",
       "    .dataframe thead th {\n",
       "        text-align: right;\n",
       "    }\n",
       "</style>\n",
       "<table border=\"1\" class=\"dataframe\">\n",
       "  <thead>\n",
       "    <tr style=\"text-align: right;\">\n",
       "      <th></th>\n",
       "      <th>Year</th>\n",
       "      <th>Indicator Name</th>\n",
       "    </tr>\n",
       "  </thead>\n",
       "  <tbody>\n",
       "    <tr>\n",
       "      <th>54</th>\n",
       "      <td>2013</td>\n",
       "      <td>Air transport, freight (million ton-km)</td>\n",
       "    </tr>\n",
       "    <tr>\n",
       "      <th>55</th>\n",
       "      <td>2014</td>\n",
       "      <td>Air transport, freight (million ton-km)</td>\n",
       "    </tr>\n",
       "    <tr>\n",
       "      <th>56</th>\n",
       "      <td>2015</td>\n",
       "      <td>Air transport, freight (million ton-km)</td>\n",
       "    </tr>\n",
       "    <tr>\n",
       "      <th>57</th>\n",
       "      <td>2016</td>\n",
       "      <td>Air transport, freight (million ton-km)</td>\n",
       "    </tr>\n",
       "    <tr>\n",
       "      <th>58</th>\n",
       "      <td>2017</td>\n",
       "      <td>Air transport, freight (million ton-km)</td>\n",
       "    </tr>\n",
       "    <tr>\n",
       "      <th>59</th>\n",
       "      <td>2018</td>\n",
       "      <td>Air transport, freight (million ton-km)</td>\n",
       "    </tr>\n",
       "    <tr>\n",
       "      <th>60</th>\n",
       "      <td>2019</td>\n",
       "      <td>Air transport, freight (million ton-km)</td>\n",
       "    </tr>\n",
       "    <tr>\n",
       "      <th>61</th>\n",
       "      <td>2020</td>\n",
       "      <td>Air transport, freight (million ton-km)</td>\n",
       "    </tr>\n",
       "    <tr>\n",
       "      <th>62</th>\n",
       "      <td>2021</td>\n",
       "      <td>Air transport, freight (million ton-km)</td>\n",
       "    </tr>\n",
       "    <tr>\n",
       "      <th>63</th>\n",
       "      <td>2022</td>\n",
       "      <td>Fixed broadband subscriptions</td>\n",
       "    </tr>\n",
       "  </tbody>\n",
       "</table>\n",
       "</div>"
      ],
      "text/plain": [
       "    Year                           Indicator Name\n",
       "54  2013  Air transport, freight (million ton-km)\n",
       "55  2014  Air transport, freight (million ton-km)\n",
       "56  2015  Air transport, freight (million ton-km)\n",
       "57  2016  Air transport, freight (million ton-km)\n",
       "58  2017  Air transport, freight (million ton-km)\n",
       "59  2018  Air transport, freight (million ton-km)\n",
       "60  2019  Air transport, freight (million ton-km)\n",
       "61  2020  Air transport, freight (million ton-km)\n",
       "62  2021  Air transport, freight (million ton-km)\n",
       "63  2022            Fixed broadband subscriptions"
      ]
     },
     "execution_count": 22,
     "metadata": {},
     "output_type": "execute_result"
    }
   ],
   "source": [
    "most_common_activities.tail(10)"
   ]
  },
  {
   "cell_type": "code",
   "execution_count": null,
   "metadata": {},
   "outputs": [],
   "source": []
  },
  {
   "cell_type": "markdown",
   "metadata": {},
   "source": [
    "Plotting  Graph for the most common services provided in the last 10 years"
   ]
  },
  {
   "cell_type": "code",
   "execution_count": 23,
   "metadata": {},
   "outputs": [
    {
     "name": "stderr",
     "output_type": "stream",
     "text": [
      "c:\\Users\\hp\\anaconda3\\envs\\myenv\\lib\\site-packages\\seaborn\\_oldcore.py:1498: FutureWarning: is_categorical_dtype is deprecated and will be removed in a future version. Use isinstance(dtype, CategoricalDtype) instead\n",
      "  if pd.api.types.is_categorical_dtype(vector):\n",
      "c:\\Users\\hp\\anaconda3\\envs\\myenv\\lib\\site-packages\\seaborn\\_oldcore.py:1498: FutureWarning: is_categorical_dtype is deprecated and will be removed in a future version. Use isinstance(dtype, CategoricalDtype) instead\n",
      "  if pd.api.types.is_categorical_dtype(vector):\n",
      "c:\\Users\\hp\\anaconda3\\envs\\myenv\\lib\\site-packages\\seaborn\\_oldcore.py:1498: FutureWarning: is_categorical_dtype is deprecated and will be removed in a future version. Use isinstance(dtype, CategoricalDtype) instead\n",
      "  if pd.api.types.is_categorical_dtype(vector):\n",
      "c:\\Users\\hp\\anaconda3\\envs\\myenv\\lib\\site-packages\\seaborn\\_oldcore.py:1498: FutureWarning: is_categorical_dtype is deprecated and will be removed in a future version. Use isinstance(dtype, CategoricalDtype) instead\n",
      "  if pd.api.types.is_categorical_dtype(vector):\n"
     ]
    },
    {
     "data": {
      "image/png": "[encoded data removed]",
      "text/plain": [
       "<Figure size 1000x600 with 1 Axes>"
      ]
     },
     "metadata": {},
     "output_type": "display_data"
    }
   ],
   "source": [
    "plt.figure(figsize=(10, 6))\n",
    "sns.countplot(data=most_common_activities.tail(10), x='Year', hue='Indicator Name', palette='viridis', dodge=True)\n",
    "plt.xlabel('Year')\n",
    "plt.ylabel('Count')\n",
    "plt.title('Most Common Service Offered In The Past 10 Year')\n",
    "plt.legend(title='Indicator Name', bbox_to_anchor=(1.05, 1), loc='upper left')\n",
    "plt.tight_layout()\n",
    "plt.show()"
   ]
  },
  {
   "cell_type": "code",
   "execution_count": null,
   "metadata": {},
   "outputs": [],
   "source": []
  },
  {
   "cell_type": "markdown",
   "metadata": {},
   "source": [
    "Dropping Unnecessary Columns"
   ]
  },
  {
   "cell_type": "code",
   "execution_count": 24,
   "metadata": {},
   "outputs": [
    {
     "data": {
      "text/html": [
       "<div>\n",
       "<style scoped>\n",
       "    .dataframe tbody tr th:only-of-type {\n",
       "        vertical-align: middle;\n",
       "    }\n",
       "\n",
       "    .dataframe tbody tr th {\n",
       "        vertical-align: top;\n",
       "    }\n",
       "\n",
       "    .dataframe thead th {\n",
       "        text-align: right;\n",
       "    }\n",
       "</style>\n",
       "<table border=\"1\" class=\"dataframe\">\n",
       "  <thead>\n",
       "    <tr style=\"text-align: right;\">\n",
       "      <th></th>\n",
       "      <th>Indicator Name</th>\n",
       "    </tr>\n",
       "  </thead>\n",
       "  <tbody>\n",
       "    <tr>\n",
       "      <th>0</th>\n",
       "      <td>#indicator+name</td>\n",
       "    </tr>\n",
       "    <tr>\n",
       "      <th>1</th>\n",
       "      <td>ICT service exports (BoP, current US$)</td>\n",
       "    </tr>\n",
       "    <tr>\n",
       "      <th>2</th>\n",
       "      <td>ICT service exports (BoP, current US$)</td>\n",
       "    </tr>\n",
       "    <tr>\n",
       "      <th>3</th>\n",
       "      <td>ICT service exports (BoP, current US$)</td>\n",
       "    </tr>\n",
       "    <tr>\n",
       "      <th>4</th>\n",
       "      <td>ICT service exports (BoP, current US$)</td>\n",
       "    </tr>\n",
       "    <tr>\n",
       "      <th>...</th>\n",
       "      <td>...</td>\n",
       "    </tr>\n",
       "    <tr>\n",
       "      <th>1335</th>\n",
       "      <td>Personal computers (per 100 people)</td>\n",
       "    </tr>\n",
       "    <tr>\n",
       "      <th>1336</th>\n",
       "      <td>Personal computers (per 100 people)</td>\n",
       "    </tr>\n",
       "    <tr>\n",
       "      <th>1337</th>\n",
       "      <td>Personal computers (per 100 people)</td>\n",
       "    </tr>\n",
       "    <tr>\n",
       "      <th>1338</th>\n",
       "      <td>Personal computers (per 100 people)</td>\n",
       "    </tr>\n",
       "    <tr>\n",
       "      <th>1339</th>\n",
       "      <td>Personal computers (per 100 people)</td>\n",
       "    </tr>\n",
       "  </tbody>\n",
       "</table>\n",
       "<p>1340 rows × 1 columns</p>\n",
       "</div>"
      ],
      "text/plain": [
       "                              Indicator Name\n",
       "0                            #indicator+name\n",
       "1     ICT service exports (BoP, current US$)\n",
       "2     ICT service exports (BoP, current US$)\n",
       "3     ICT service exports (BoP, current US$)\n",
       "4     ICT service exports (BoP, current US$)\n",
       "...                                      ...\n",
       "1335     Personal computers (per 100 people)\n",
       "1336     Personal computers (per 100 people)\n",
       "1337     Personal computers (per 100 people)\n",
       "1338     Personal computers (per 100 people)\n",
       "1339     Personal computers (per 100 people)\n",
       "\n",
       "[1340 rows x 1 columns]"
      ]
     },
     "execution_count": 24,
     "metadata": {},
     "output_type": "execute_result"
    }
   ],
   "source": [
    "services=ocha_dataset.drop(['Country Name', 'Country ISO3', 'Year','Indicator Code', 'Value'], axis=1)\n",
    "services"
   ]
  },
  {
   "cell_type": "code",
   "execution_count": 31,
   "metadata": {},
   "outputs": [
    {
     "data": {
      "text/plain": [
       "Index(['Indicator Name'], dtype='object')"
      ]
     },
     "execution_count": 31,
     "metadata": {},
     "output_type": "execute_result"
    }
   ],
   "source": [
    "services.columns"
   ]
  },
  {
   "cell_type": "markdown",
   "metadata": {},
   "source": [
    "Natural Language Processing"
   ]
  },
  {
   "cell_type": "markdown",
   "metadata": {},
   "source": [
    "Text Pre-Processing:Cleaning text"
   ]
  },
  {
   "cell_type": "code",
   "execution_count": 25,
   "metadata": {},
   "outputs": [],
   "source": [
    "import nltk\n",
    "from nltk.tokenize import word_tokenize,sent_tokenize\n",
    "from nltk.corpus import stopwords\n",
    "from nltk.stem import WordNetLemmatizer,PorterStemmer\n",
    "import string\n",
    "import gensim\n",
    "from gensim.utils import simple_preprocess\n",
    "from gensim.models.ldamulticore import LdaMulticore\n",
    "from gensim import corpora\n"
   ]
  },
  {
   "cell_type": "code",
   "execution_count": 26,
   "metadata": {},
   "outputs": [
    {
     "name": "stderr",
     "output_type": "stream",
     "text": [
      "[nltk_data] Downloading package punkt to\n",
      "[nltk_data]     C:\\Users\\hp\\AppData\\Roaming\\nltk_data...\n",
      "[nltk_data]   Package punkt is already up-to-date!\n",
      "[nltk_data] Downloading package stopwords to\n",
      "[nltk_data]     C:\\Users\\hp\\AppData\\Roaming\\nltk_data...\n",
      "[nltk_data]   Package stopwords is already up-to-date!\n",
      "[nltk_data] Downloading package wordnet to\n",
      "[nltk_data]     C:\\Users\\hp\\AppData\\Roaming\\nltk_data...\n",
      "[nltk_data]   Package wordnet is already up-to-date!\n"
     ]
    },
    {
     "data": {
      "text/plain": [
       "True"
      ]
     },
     "execution_count": 26,
     "metadata": {},
     "output_type": "execute_result"
    }
   ],
   "source": [
    "nltk.download('punkt')\n",
    "nltk.download('stopwords')\n",
    "nltk.download('wordnet')\n"
   ]
  },
  {
   "cell_type": "code",
   "execution_count": 27,
   "metadata": {},
   "outputs": [],
   "source": [
    "def pre_process(text):\n",
    "    # Tokenization: Split the text into sentences and the sentences into words\n",
    "    sentences = sent_tokenize(text)\n",
    "    words = [word_tokenize(sentence) for sentence in sentences]\n",
    "\n",
    "    # Lowercase the words and remove punctuation\n",
    "    words = [[word.lower() for word in sentence if word.isalnum()] for sentence in words]\n",
    "\n",
    "    # Remove words with fewer than 3 characters\n",
    "    words = [[word for word in sentence if len(word) > 2] for sentence in words]\n",
    "\n",
    "    # Remove stopwords\n",
    "    stop_words = set(stopwords.words('english'))\n",
    "    words = [[word for word in sentence if word not in stop_words] for sentence in words]\n",
    "\n",
    "    # Lemmatization\n",
    "    lemmatizer = WordNetLemmatizer()\n",
    "    words = [[lemmatizer.lemmatize(word) for word in sentence] for sentence in words]\n",
    "\n",
    "    # Stemming\n",
    "    stemmer = PorterStemmer()\n",
    "    words = [[stemmer.stem(word) for word in sentence] for sentence in words]\n",
    "\n",
    "    return words\n",
    "\n",
    "\n"
   ]
  },
  {
   "cell_type": "code",
   "execution_count": 33,
   "metadata": {},
   "outputs": [
    {
     "data": {
      "text/plain": [
       "0                                        [[]]\n",
       "1       [[ict, servic, export, bop, current]]\n",
       "2       [[ict, servic, export, bop, current]]\n",
       "3       [[ict, servic, export, bop, current]]\n",
       "4       [[ict, servic, export, bop, current]]\n",
       "                        ...                  \n",
       "1335      [[person, comput, per, 100, peopl]]\n",
       "1336      [[person, comput, per, 100, peopl]]\n",
       "1337      [[person, comput, per, 100, peopl]]\n",
       "1338      [[person, comput, per, 100, peopl]]\n",
       "1339      [[person, comput, per, 100, peopl]]\n",
       "Name: Indicator Name, Length: 1340, dtype: object"
      ]
     },
     "execution_count": 33,
     "metadata": {},
     "output_type": "execute_result"
    }
   ],
   "source": [
    "services['Indicator Name']=services['Indicator Name'].apply(pre_process)\n",
    "services['Indicator Name']"
   ]
  },
  {
   "cell_type": "code",
   "execution_count": null,
   "metadata": {},
   "outputs": [],
   "source": []
  }
 ],
 "metadata": {
  "kernelspec": {
   "display_name": "myenv",
   "language": "python",
   "name": "python3"
  },
  "language_info": {
   "codemirror_mode": {
    "name": "ipython",
    "version": 3
   },
   "file_extension": ".py",
   "mimetype": "text/x-python",
   "name": "python",
   "nbconvert_exporter": "python",
   "pygments_lexer": "ipython3",
   "version": "3.9.16"
  }
 },
 "nbformat": 4,
 "nbformat_minor": 2
}
